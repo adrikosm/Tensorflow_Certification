{
  "nbformat": 4,
  "nbformat_minor": 0,
  "metadata": {
    "colab": {
      "name": "Computer_vision_tf.ipynb",
      "provenance": []
    },
    "kernelspec": {
      "name": "python3",
      "display_name": "Python 3"
    },
    "language_info": {
      "name": "python"
    }
  },
  "cells": [
    {
      "cell_type": "markdown",
      "metadata": {
        "id": "J9Auu0Lu21yu"
      },
      "source": [
        "# Computer vision Introduction using CNN \n",
        "# (Convolutional Neural Network)\n",
        "* CNN should have non linear activations\n",
        "* tf.keras.layers.ConvXD where X:\n",
        "  - 1 = 1D text based\n",
        "  - 2 = 2D Images\n",
        "  - 3 = 3D Videos\n"
      ]
    },
    {
      "cell_type": "markdown",
      "metadata": {
        "id": "E1tWC9haABbh"
      },
      "source": [
        "## Lets now get the data\n",
        "We will only be using the pizza and steak part of the food101 dataset"
      ]
    },
    {
      "cell_type": "code",
      "metadata": {
        "id": "_RXQZLUUR5H-",
        "colab": {
          "base_uri": "https://localhost:8080/"
        },
        "outputId": "4a1fceb3-3455-49a6-b59c-846b24dd9dff"
      },
      "source": [
        "import zipfile\n",
        "\n",
        "# Download zip file of pizza_steak images\n",
        "!wget https://storage.googleapis.com/ztm_tf_course/food_vision/pizza_steak.zip "
      ],
      "execution_count": 1,
      "outputs": [
        {
          "output_type": "stream",
          "name": "stdout",
          "text": [
            "--2021-09-06 16:50:09--  https://storage.googleapis.com/ztm_tf_course/food_vision/pizza_steak.zip\n",
            "Resolving storage.googleapis.com (storage.googleapis.com)... 74.125.201.128, 74.125.69.128, 64.233.183.128, ...\n",
            "Connecting to storage.googleapis.com (storage.googleapis.com)|74.125.201.128|:443... connected.\n",
            "HTTP request sent, awaiting response... 200 OK\n",
            "Length: 109579078 (105M) [application/zip]\n",
            "Saving to: ‘pizza_steak.zip’\n",
            "\n",
            "pizza_steak.zip     100%[===================>] 104.50M   133MB/s    in 0.8s    \n",
            "\n",
            "2021-09-06 16:50:10 (133 MB/s) - ‘pizza_steak.zip’ saved [109579078/109579078]\n",
            "\n"
          ]
        }
      ]
    },
    {
      "cell_type": "code",
      "metadata": {
        "id": "OEtdhnmKBGMP"
      },
      "source": [
        "# Time to unzip the file\n",
        "zip_ref = zipfile.ZipFile(\"pizza_steak.zip\",\"r\")\n",
        "zip_ref.extractall()\n",
        "zip_ref.close()"
      ],
      "execution_count": 4,
      "outputs": []
    },
    {
      "cell_type": "code",
      "metadata": {
        "colab": {
          "base_uri": "https://localhost:8080/"
        },
        "id": "-6pWUFrWBPlM",
        "outputId": "4c876899-036e-41e4-fc21-4dafd202abab"
      },
      "source": [
        "# View files\n",
        "!ls pizza_steak"
      ],
      "execution_count": 5,
      "outputs": [
        {
          "output_type": "stream",
          "name": "stdout",
          "text": [
            "test  train\n"
          ]
        }
      ]
    },
    {
      "cell_type": "code",
      "metadata": {
        "colab": {
          "base_uri": "https://localhost:8080/"
        },
        "id": "kDZACflQBb6f",
        "outputId": "bd901062-e748-4149-e6a3-22d4cddd5340"
      },
      "source": [
        "!ls pizza_steak/train/"
      ],
      "execution_count": 6,
      "outputs": [
        {
          "output_type": "stream",
          "name": "stdout",
          "text": [
            "pizza  steak\n"
          ]
        }
      ]
    },
    {
      "cell_type": "code",
      "metadata": {
        "id": "7wpehhjQBift"
      },
      "source": [
        ""
      ],
      "execution_count": null,
      "outputs": []
    }
  ]
}