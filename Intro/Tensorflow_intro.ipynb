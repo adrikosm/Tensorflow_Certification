{
  "nbformat": 4,
  "nbformat_minor": 0,
  "metadata": {
    "colab": {
      "name": "Tensorflow_intro.ipynb",
      "provenance": [],
      "collapsed_sections": []
    },
    "kernelspec": {
      "name": "python3",
      "display_name": "Python 3"
    },
    "language_info": {
      "name": "python"
    },
    "accelerator": "GPU"
  },
  "cells": [
    {
      "cell_type": "markdown",
      "metadata": {
        "id": "ESc1WbhpoaVS"
      },
      "source": [
        "# Some fundamentals for tensorflow\n",
        "\n",
        "\n",
        "---\n",
        "* Introduction to tensors\n",
        "* Getting information from tensors\n",
        "* Manipulating tensors\n",
        "* Tensors and Numpy\n",
        "* Using `tf.function`\n",
        "* Using GPUs And TPUs \n",
        "\n"
      ]
    },
    {
      "cell_type": "markdown",
      "metadata": {
        "id": "LoMPG4wVpGAR"
      },
      "source": [
        "## Introductions to Tensors\n"
      ]
    },
    {
      "cell_type": "code",
      "metadata": {
        "colab": {
          "base_uri": "https://localhost:8080/"
        },
        "id": "2WYMlHZUpRR7",
        "outputId": "cf286ced-343b-445f-ab0e-e3dcb7351d4f"
      },
      "source": [
        "# Imort Tensorflow\n",
        "import tensorflow as tf\n",
        "\n",
        "\n",
        "print(tf.__version__)"
      ],
      "execution_count": 2,
      "outputs": [
        {
          "output_type": "stream",
          "text": [
            "2.4.1\n"
          ],
          "name": "stdout"
        }
      ]
    },
    {
      "cell_type": "code",
      "metadata": {
        "colab": {
          "base_uri": "https://localhost:8080/"
        },
        "id": "hku5YZVCpfb9",
        "outputId": "45aa5971-0baf-4a56-eaed-5023789cf08c"
      },
      "source": [
        "# Create tensors with tf.constant()\n",
        "\n",
        "scalar = tf.constant(7)\n",
        "scalar"
      ],
      "execution_count": 3,
      "outputs": [
        {
          "output_type": "execute_result",
          "data": {
            "text/plain": [
              "<tf.Tensor: shape=(), dtype=int32, numpy=7>"
            ]
          },
          "metadata": {
            "tags": []
          },
          "execution_count": 3
        }
      ]
    },
    {
      "cell_type": "code",
      "metadata": {
        "colab": {
          "base_uri": "https://localhost:8080/"
        },
        "id": "1e0jMbnJp1Rw",
        "outputId": "9f5beefa-dd27-461e-af5f-24539d4759f1"
      },
      "source": [
        "# View number of tensor dimensions\n",
        "# `ndim`\n",
        "scalar.ndim"
      ],
      "execution_count": 4,
      "outputs": [
        {
          "output_type": "execute_result",
          "data": {
            "text/plain": [
              "0"
            ]
          },
          "metadata": {
            "tags": []
          },
          "execution_count": 4
        }
      ]
    },
    {
      "cell_type": "code",
      "metadata": {
        "colab": {
          "base_uri": "https://localhost:8080/"
        },
        "id": "GmuMi9D84ybg",
        "outputId": "d64a68df-c40f-4019-cdee-e48af5e3fb85"
      },
      "source": [
        "# Create a vector\n",
        "vector = tf.constant([10,10])\n",
        "vector"
      ],
      "execution_count": 5,
      "outputs": [
        {
          "output_type": "execute_result",
          "data": {
            "text/plain": [
              "<tf.Tensor: shape=(2,), dtype=int32, numpy=array([10, 10], dtype=int32)>"
            ]
          },
          "metadata": {
            "tags": []
          },
          "execution_count": 5
        }
      ]
    },
    {
      "cell_type": "code",
      "metadata": {
        "colab": {
          "base_uri": "https://localhost:8080/"
        },
        "id": "KAh3PajP45cb",
        "outputId": "e77744e6-94f4-40db-87a3-833b79dfa499"
      },
      "source": [
        "vector.ndim"
      ],
      "execution_count": 6,
      "outputs": [
        {
          "output_type": "execute_result",
          "data": {
            "text/plain": [
              "1"
            ]
          },
          "metadata": {
            "tags": []
          },
          "execution_count": 6
        }
      ]
    },
    {
      "cell_type": "code",
      "metadata": {
        "colab": {
          "base_uri": "https://localhost:8080/"
        },
        "id": "lh29bwAd46fn",
        "outputId": "3cf89c6b-68a4-40b6-9346-8787f02421bf"
      },
      "source": [
        "# Create a matrix\n",
        "matrix = tf.constant([[10,10],\n",
        "                      [8,8]])\n",
        "matrix"
      ],
      "execution_count": 7,
      "outputs": [
        {
          "output_type": "execute_result",
          "data": {
            "text/plain": [
              "<tf.Tensor: shape=(2, 2), dtype=int32, numpy=\n",
              "array([[10, 10],\n",
              "       [ 8,  8]], dtype=int32)>"
            ]
          },
          "metadata": {
            "tags": []
          },
          "execution_count": 7
        }
      ]
    },
    {
      "cell_type": "code",
      "metadata": {
        "colab": {
          "base_uri": "https://localhost:8080/"
        },
        "id": "ZWvKDH-D5VJv",
        "outputId": "566336f0-8661-4233-d61c-12c0ae31912c"
      },
      "source": [
        "matrix.ndim"
      ],
      "execution_count": 8,
      "outputs": [
        {
          "output_type": "execute_result",
          "data": {
            "text/plain": [
              "2"
            ]
          },
          "metadata": {
            "tags": []
          },
          "execution_count": 8
        }
      ]
    },
    {
      "cell_type": "code",
      "metadata": {
        "colab": {
          "base_uri": "https://localhost:8080/"
        },
        "id": "M4PFVDep5WH7",
        "outputId": "a5444aa1-4d87-4c5e-884d-0ab759b2975f"
      },
      "source": [
        "# Create a float matrix\n",
        "another_matrix = tf.constant([[10. , 8,],\n",
        "                              [5. , 6.],\n",
        "                              [9. , 7.]],dtype=tf.float16) \n",
        "another_matrix"
      ],
      "execution_count": 9,
      "outputs": [
        {
          "output_type": "execute_result",
          "data": {
            "text/plain": [
              "<tf.Tensor: shape=(3, 2), dtype=float16, numpy=\n",
              "array([[10.,  8.],\n",
              "       [ 5.,  6.],\n",
              "       [ 9.,  7.]], dtype=float16)>"
            ]
          },
          "metadata": {
            "tags": []
          },
          "execution_count": 9
        }
      ]
    },
    {
      "cell_type": "code",
      "metadata": {
        "colab": {
          "base_uri": "https://localhost:8080/"
        },
        "id": "_hMUBE2A6UYH",
        "outputId": "9d09596f-d6d4-49af-bedf-9366f7623153"
      },
      "source": [
        "another_matrix.ndim"
      ],
      "execution_count": 10,
      "outputs": [
        {
          "output_type": "execute_result",
          "data": {
            "text/plain": [
              "2"
            ]
          },
          "metadata": {
            "tags": []
          },
          "execution_count": 10
        }
      ]
    },
    {
      "cell_type": "code",
      "metadata": {
        "colab": {
          "base_uri": "https://localhost:8080/"
        },
        "id": "fMCvLE136iGv",
        "outputId": "4ebaa79e-b94b-4e7b-c48c-141600f809c9"
      },
      "source": [
        "# Lets now create a tensor\n",
        "tensor = tf.constant([[[1,2,3],\n",
        "                       [4,5,6]],\n",
        "                      [[7,8,9],\n",
        "                       [10,11,12]],\n",
        "                      [[13,14,15],\n",
        "                       [16,17,17]]])\n",
        "tensor"
      ],
      "execution_count": 11,
      "outputs": [
        {
          "output_type": "execute_result",
          "data": {
            "text/plain": [
              "<tf.Tensor: shape=(3, 2, 3), dtype=int32, numpy=\n",
              "array([[[ 1,  2,  3],\n",
              "        [ 4,  5,  6]],\n",
              "\n",
              "       [[ 7,  8,  9],\n",
              "        [10, 11, 12]],\n",
              "\n",
              "       [[13, 14, 15],\n",
              "        [16, 17, 17]]], dtype=int32)>"
            ]
          },
          "metadata": {
            "tags": []
          },
          "execution_count": 11
        }
      ]
    },
    {
      "cell_type": "code",
      "metadata": {
        "colab": {
          "base_uri": "https://localhost:8080/"
        },
        "id": "QF44wGUO7l46",
        "outputId": "55727675-6e6d-4583-f36f-b9ba949ac566"
      },
      "source": [
        "tensor.ndim"
      ],
      "execution_count": 12,
      "outputs": [
        {
          "output_type": "execute_result",
          "data": {
            "text/plain": [
              "3"
            ]
          },
          "metadata": {
            "tags": []
          },
          "execution_count": 12
        }
      ]
    },
    {
      "cell_type": "markdown",
      "metadata": {
        "id": "8dNyPPvu9qqc"
      },
      "source": [
        "#### What we have created so far:\n",
        "* Scalar: A single number\n",
        "* Vector: A number with directions\n",
        "* Matrix: A 2-dimensional array of numbers\n",
        "* Tensor: A n-dimensional array of numbers"
      ]
    },
    {
      "cell_type": "markdown",
      "metadata": {
        "id": "_J6JuAy076ah"
      },
      "source": [
        "### Creating tensors with `tf.Variable`"
      ]
    },
    {
      "cell_type": "code",
      "metadata": {
        "colab": {
          "base_uri": "https://localhost:8080/"
        },
        "id": "N4GpdzvK7nVI",
        "outputId": "1526e123-6f74-40ed-c343-5c2042ed34e2"
      },
      "source": [
        "tf.Variable"
      ],
      "execution_count": 13,
      "outputs": [
        {
          "output_type": "execute_result",
          "data": {
            "text/plain": [
              "tensorflow.python.ops.variables.Variable"
            ]
          },
          "metadata": {
            "tags": []
          },
          "execution_count": 13
        }
      ]
    },
    {
      "cell_type": "code",
      "metadata": {
        "id": "Xt9g6_n68Z1O"
      },
      "source": [
        "# Lets create a changeable tensor\n",
        "\n",
        "changeable_tensor = tf.Variable([10,10])\n",
        "\n",
        "unchangeable_tensor = tf.constant([10,10])"
      ],
      "execution_count": 14,
      "outputs": []
    },
    {
      "cell_type": "code",
      "metadata": {
        "colab": {
          "base_uri": "https://localhost:8080/"
        },
        "id": "QblIWO3b9I1P",
        "outputId": "3b7d4e6e-4700-4b43-997d-797f0cedb15a"
      },
      "source": [
        "changeable_tensor,unchangeable_tensor"
      ],
      "execution_count": 15,
      "outputs": [
        {
          "output_type": "execute_result",
          "data": {
            "text/plain": [
              "(<tf.Variable 'Variable:0' shape=(2,) dtype=int32, numpy=array([10, 10], dtype=int32)>,\n",
              " <tf.Tensor: shape=(2,), dtype=int32, numpy=array([10, 10], dtype=int32)>)"
            ]
          },
          "metadata": {
            "tags": []
          },
          "execution_count": 15
        }
      ]
    },
    {
      "cell_type": "code",
      "metadata": {
        "colab": {
          "base_uri": "https://localhost:8080/"
        },
        "id": "NWRSN-JG9KsA",
        "outputId": "5c91af4a-7faf-438f-f9cd-c8f3539dd058"
      },
      "source": [
        "# Now lets try changing one of the elements in our changeable tensor\n",
        "\n",
        "# changeable_tensor[0] = 7 Wont work since is does not support item assignment\n",
        "\n",
        "changeable_tensor[0].assign(7)\n",
        "changeable_tensor"
      ],
      "execution_count": 16,
      "outputs": [
        {
          "output_type": "execute_result",
          "data": {
            "text/plain": [
              "<tf.Variable 'Variable:0' shape=(2,) dtype=int32, numpy=array([ 7, 10], dtype=int32)>"
            ]
          },
          "metadata": {
            "tags": []
          },
          "execution_count": 16
        }
      ]
    },
    {
      "cell_type": "markdown",
      "metadata": {
        "id": "ZWgvvbf4-560"
      },
      "source": [
        "**Note:** Usually we wont need to decide between `tf.constant` and `tf.Variable` since tensorflow does this on its own."
      ]
    },
    {
      "cell_type": "markdown",
      "metadata": {
        "id": "YIsN-hHm-rDl"
      },
      "source": [
        "### Creating Random Tensors"
      ]
    },
    {
      "cell_type": "code",
      "metadata": {
        "id": "hqLdE9FP-IMe",
        "colab": {
          "base_uri": "https://localhost:8080/"
        },
        "outputId": "f7b58cf9-ec4a-48ef-8e3f-fa3a241896bb"
      },
      "source": [
        "# Lets create 2 random tensors\n",
        "\n",
        "random_tensor_one = tf.random.Generator.from_seed(42)\n",
        "random_tensor_one = random_tensor_one.normal(shape=(3,2))\n",
        "\n",
        "random_tensor_one"
      ],
      "execution_count": 17,
      "outputs": [
        {
          "output_type": "execute_result",
          "data": {
            "text/plain": [
              "<tf.Tensor: shape=(3, 2), dtype=float32, numpy=\n",
              "array([[-0.7565803 , -0.06854702],\n",
              "       [ 0.07595026, -1.2573844 ],\n",
              "       [-0.23193765, -1.8107855 ]], dtype=float32)>"
            ]
          },
          "metadata": {
            "tags": []
          },
          "execution_count": 17
        }
      ]
    },
    {
      "cell_type": "code",
      "metadata": {
        "colab": {
          "base_uri": "https://localhost:8080/"
        },
        "id": "W73trvHYVG7I",
        "outputId": "15ff5eff-60c8-47c9-80ea-c0e1df2b34c3"
      },
      "source": [
        "random_tensor_two = tf.random.Generator.from_seed(42)\n",
        "random_tensor_two = random_tensor_two.normal(shape=(3,2))\n",
        "\n",
        "random_tensor_two"
      ],
      "execution_count": 18,
      "outputs": [
        {
          "output_type": "execute_result",
          "data": {
            "text/plain": [
              "<tf.Tensor: shape=(3, 2), dtype=float32, numpy=\n",
              "array([[-0.7565803 , -0.06854702],\n",
              "       [ 0.07595026, -1.2573844 ],\n",
              "       [-0.23193765, -1.8107855 ]], dtype=float32)>"
            ]
          },
          "metadata": {
            "tags": []
          },
          "execution_count": 18
        }
      ]
    },
    {
      "cell_type": "code",
      "metadata": {
        "colab": {
          "base_uri": "https://localhost:8080/"
        },
        "id": "VyTC2mxKVlVW",
        "outputId": "2becf5ef-ca89-4d03-94bd-da8d6e065b43"
      },
      "source": [
        "random_tensor_one == random_tensor_two"
      ],
      "execution_count": 19,
      "outputs": [
        {
          "output_type": "execute_result",
          "data": {
            "text/plain": [
              "<tf.Tensor: shape=(3, 2), dtype=bool, numpy=\n",
              "array([[ True,  True],\n",
              "       [ True,  True],\n",
              "       [ True,  True]])>"
            ]
          },
          "metadata": {
            "tags": []
          },
          "execution_count": 19
        }
      ]
    },
    {
      "cell_type": "markdown",
      "metadata": {
        "id": "7ihHbPerWqi4"
      },
      "source": [
        "### Shuffle the order of elements in a tensor"
      ]
    },
    {
      "cell_type": "code",
      "metadata": {
        "colab": {
          "base_uri": "https://localhost:8080/"
        },
        "id": "m5NmNd_OVnVb",
        "outputId": "3cc00ad2-2ee2-42ef-9637-7b188191ee3c"
      },
      "source": [
        "not_shuffled = tf.constant([[10,7],\n",
        "                            [3,4],\n",
        "                            [2,5]])\n",
        "not_shuffled,not_shuffled.ndim"
      ],
      "execution_count": 20,
      "outputs": [
        {
          "output_type": "execute_result",
          "data": {
            "text/plain": [
              "(<tf.Tensor: shape=(3, 2), dtype=int32, numpy=\n",
              " array([[10,  7],\n",
              "        [ 3,  4],\n",
              "        [ 2,  5]], dtype=int32)>, 2)"
            ]
          },
          "metadata": {
            "tags": []
          },
          "execution_count": 20
        }
      ]
    },
    {
      "cell_type": "code",
      "metadata": {
        "colab": {
          "base_uri": "https://localhost:8080/"
        },
        "id": "_XRWg_hYW3jJ",
        "outputId": "ed38a1c5-3830-4c43-d99a-3ef32760aba3"
      },
      "source": [
        "# Now lets try to shuffle our `not_shuffled` tensor\n",
        "tf.random.shuffle(not_shuffled)"
      ],
      "execution_count": 21,
      "outputs": [
        {
          "output_type": "execute_result",
          "data": {
            "text/plain": [
              "<tf.Tensor: shape=(3, 2), dtype=int32, numpy=\n",
              "array([[ 3,  4],\n",
              "       [ 2,  5],\n",
              "       [10,  7]], dtype=int32)>"
            ]
          },
          "metadata": {
            "tags": []
          },
          "execution_count": 21
        }
      ]
    },
    {
      "cell_type": "markdown",
      "metadata": {
        "id": "XYgcQDqRZvwp"
      },
      "source": [
        "### Other ways to make tensors\n"
      ]
    },
    {
      "cell_type": "code",
      "metadata": {
        "colab": {
          "base_uri": "https://localhost:8080/"
        },
        "id": "vIyMZIh1XdvZ",
        "outputId": "fce7e52a-164d-4cdf-d827-a07e4c9ddfb3"
      },
      "source": [
        "# Create tensor of ones\n",
        "tf.ones([10,8])"
      ],
      "execution_count": 22,
      "outputs": [
        {
          "output_type": "execute_result",
          "data": {
            "text/plain": [
              "<tf.Tensor: shape=(10, 8), dtype=float32, numpy=\n",
              "array([[1., 1., 1., 1., 1., 1., 1., 1.],\n",
              "       [1., 1., 1., 1., 1., 1., 1., 1.],\n",
              "       [1., 1., 1., 1., 1., 1., 1., 1.],\n",
              "       [1., 1., 1., 1., 1., 1., 1., 1.],\n",
              "       [1., 1., 1., 1., 1., 1., 1., 1.],\n",
              "       [1., 1., 1., 1., 1., 1., 1., 1.],\n",
              "       [1., 1., 1., 1., 1., 1., 1., 1.],\n",
              "       [1., 1., 1., 1., 1., 1., 1., 1.],\n",
              "       [1., 1., 1., 1., 1., 1., 1., 1.],\n",
              "       [1., 1., 1., 1., 1., 1., 1., 1.]], dtype=float32)>"
            ]
          },
          "metadata": {
            "tags": []
          },
          "execution_count": 22
        }
      ]
    },
    {
      "cell_type": "code",
      "metadata": {
        "colab": {
          "base_uri": "https://localhost:8080/"
        },
        "id": "Dn48BH7_Z-Yx",
        "outputId": "b9c3e95f-ae49-4a55-ae9f-df28560d8234"
      },
      "source": [
        "# Create tensor of zeroes\n",
        "tf.zeros([10,9])"
      ],
      "execution_count": 23,
      "outputs": [
        {
          "output_type": "execute_result",
          "data": {
            "text/plain": [
              "<tf.Tensor: shape=(10, 9), dtype=float32, numpy=\n",
              "array([[0., 0., 0., 0., 0., 0., 0., 0., 0.],\n",
              "       [0., 0., 0., 0., 0., 0., 0., 0., 0.],\n",
              "       [0., 0., 0., 0., 0., 0., 0., 0., 0.],\n",
              "       [0., 0., 0., 0., 0., 0., 0., 0., 0.],\n",
              "       [0., 0., 0., 0., 0., 0., 0., 0., 0.],\n",
              "       [0., 0., 0., 0., 0., 0., 0., 0., 0.],\n",
              "       [0., 0., 0., 0., 0., 0., 0., 0., 0.],\n",
              "       [0., 0., 0., 0., 0., 0., 0., 0., 0.],\n",
              "       [0., 0., 0., 0., 0., 0., 0., 0., 0.],\n",
              "       [0., 0., 0., 0., 0., 0., 0., 0., 0.]], dtype=float32)>"
            ]
          },
          "metadata": {
            "tags": []
          },
          "execution_count": 23
        }
      ]
    },
    {
      "cell_type": "markdown",
      "metadata": {
        "id": "9GdgoDcKaPBf"
      },
      "source": [
        "### We can also turn numpy arrays into tensors\n",
        "\n",
        "---\n",
        "Their main difference is that the tensors can be run on a GPU\n"
      ]
    },
    {
      "cell_type": "code",
      "metadata": {
        "colab": {
          "base_uri": "https://localhost:8080/"
        },
        "id": "0oK-LGZ_aG1q",
        "outputId": "8c27757b-bd70-4dc1-ed2b-f964862ce890"
      },
      "source": [
        "# Import numpy\n",
        "import numpy as np\n",
        "\n",
        "numpy_A = np.arange(1,25,dtype=np.int32) # Create a numpy array between 1 and 25\n",
        "numpy_A"
      ],
      "execution_count": 24,
      "outputs": [
        {
          "output_type": "execute_result",
          "data": {
            "text/plain": [
              "array([ 1,  2,  3,  4,  5,  6,  7,  8,  9, 10, 11, 12, 13, 14, 15, 16, 17,\n",
              "       18, 19, 20, 21, 22, 23, 24], dtype=int32)"
            ]
          },
          "metadata": {
            "tags": []
          },
          "execution_count": 24
        }
      ]
    },
    {
      "cell_type": "markdown",
      "metadata": {
        "id": "ePh4h8e9aodn"
      },
      "source": [
        "**Note:** \n",
        "* `X = tf.constant(some_matrix)` capital for matrices\n",
        "* `y = tf.constant(vector)` lowercase for vectors"
      ]
    },
    {
      "cell_type": "code",
      "metadata": {
        "colab": {
          "base_uri": "https://localhost:8080/"
        },
        "id": "eYO46W8UaNq6",
        "outputId": "8f1cbef3-e62f-4923-b57d-61790168378d"
      },
      "source": [
        "A = tf.constant(numpy_A,shape=(2,3,4))\n",
        "A"
      ],
      "execution_count": 25,
      "outputs": [
        {
          "output_type": "execute_result",
          "data": {
            "text/plain": [
              "<tf.Tensor: shape=(2, 3, 4), dtype=int32, numpy=\n",
              "array([[[ 1,  2,  3,  4],\n",
              "        [ 5,  6,  7,  8],\n",
              "        [ 9, 10, 11, 12]],\n",
              "\n",
              "       [[13, 14, 15, 16],\n",
              "        [17, 18, 19, 20],\n",
              "        [21, 22, 23, 24]]], dtype=int32)>"
            ]
          },
          "metadata": {
            "tags": []
          },
          "execution_count": 25
        }
      ]
    },
    {
      "cell_type": "code",
      "metadata": {
        "colab": {
          "base_uri": "https://localhost:8080/"
        },
        "id": "srdUOE6fcEdq",
        "outputId": "97f54a94-f110-41ee-ea4b-4b61c4b3ea8d"
      },
      "source": [
        "A.ndim"
      ],
      "execution_count": 26,
      "outputs": [
        {
          "output_type": "execute_result",
          "data": {
            "text/plain": [
              "3"
            ]
          },
          "metadata": {
            "tags": []
          },
          "execution_count": 26
        }
      ]
    },
    {
      "cell_type": "markdown",
      "metadata": {
        "id": "sXGyOFl0b9tu"
      },
      "source": [
        "## Getting information from tensors\n",
        "\n",
        "*   List item\n",
        "\n",
        "*   List item\n",
        "*   List item\n",
        "\n",
        "\n",
        "*   List item\n",
        "\n",
        "\n",
        "\n",
        "* Shape\n",
        "* Rank\n",
        "* Axis or dimension\n",
        "* Size\n",
        "![tensor_attributes.png](data:image/png;base64,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)"
      ]
    },
    {
      "cell_type": "code",
      "metadata": {
        "colab": {
          "base_uri": "https://localhost:8080/"
        },
        "id": "42VQ0T5LbPjb",
        "outputId": "37fdf334-bcaa-447c-9593-8d5dce46f1e7"
      },
      "source": [
        "# Create a rank 4 tesor (4 dimensions()\n",
        "\n",
        "rank_4_tensor = tf.zeros(shape=[2,3,4,5],dtype=tf.int32)\n",
        "rank_4_tensor"
      ],
      "execution_count": 27,
      "outputs": [
        {
          "output_type": "execute_result",
          "data": {
            "text/plain": [
              "<tf.Tensor: shape=(2, 3, 4, 5), dtype=int32, numpy=\n",
              "array([[[[0, 0, 0, 0, 0],\n",
              "         [0, 0, 0, 0, 0],\n",
              "         [0, 0, 0, 0, 0],\n",
              "         [0, 0, 0, 0, 0]],\n",
              "\n",
              "        [[0, 0, 0, 0, 0],\n",
              "         [0, 0, 0, 0, 0],\n",
              "         [0, 0, 0, 0, 0],\n",
              "         [0, 0, 0, 0, 0]],\n",
              "\n",
              "        [[0, 0, 0, 0, 0],\n",
              "         [0, 0, 0, 0, 0],\n",
              "         [0, 0, 0, 0, 0],\n",
              "         [0, 0, 0, 0, 0]]],\n",
              "\n",
              "\n",
              "       [[[0, 0, 0, 0, 0],\n",
              "         [0, 0, 0, 0, 0],\n",
              "         [0, 0, 0, 0, 0],\n",
              "         [0, 0, 0, 0, 0]],\n",
              "\n",
              "        [[0, 0, 0, 0, 0],\n",
              "         [0, 0, 0, 0, 0],\n",
              "         [0, 0, 0, 0, 0],\n",
              "         [0, 0, 0, 0, 0]],\n",
              "\n",
              "        [[0, 0, 0, 0, 0],\n",
              "         [0, 0, 0, 0, 0],\n",
              "         [0, 0, 0, 0, 0],\n",
              "         [0, 0, 0, 0, 0]]]], dtype=int32)>"
            ]
          },
          "metadata": {
            "tags": []
          },
          "execution_count": 27
        }
      ]
    },
    {
      "cell_type": "code",
      "metadata": {
        "colab": {
          "base_uri": "https://localhost:8080/"
        },
        "id": "IflMBokZopeP",
        "outputId": "d40f433a-dcc5-477f-ea00-6495c4546eba"
      },
      "source": [
        "rank_4_tensor[0]"
      ],
      "execution_count": 28,
      "outputs": [
        {
          "output_type": "execute_result",
          "data": {
            "text/plain": [
              "<tf.Tensor: shape=(3, 4, 5), dtype=int32, numpy=\n",
              "array([[[0, 0, 0, 0, 0],\n",
              "        [0, 0, 0, 0, 0],\n",
              "        [0, 0, 0, 0, 0],\n",
              "        [0, 0, 0, 0, 0]],\n",
              "\n",
              "       [[0, 0, 0, 0, 0],\n",
              "        [0, 0, 0, 0, 0],\n",
              "        [0, 0, 0, 0, 0],\n",
              "        [0, 0, 0, 0, 0]],\n",
              "\n",
              "       [[0, 0, 0, 0, 0],\n",
              "        [0, 0, 0, 0, 0],\n",
              "        [0, 0, 0, 0, 0],\n",
              "        [0, 0, 0, 0, 0]]], dtype=int32)>"
            ]
          },
          "metadata": {
            "tags": []
          },
          "execution_count": 28
        }
      ]
    },
    {
      "cell_type": "code",
      "metadata": {
        "colab": {
          "base_uri": "https://localhost:8080/"
        },
        "id": "IvGqZw9IpCuK",
        "outputId": "894a35f7-4b8d-457d-f2b4-4bae6d46f53d"
      },
      "source": [
        "# View shape\n",
        "print(\"Shape: \",rank_4_tensor.shape)\n",
        "# View dimensions\n",
        "print(\"Dimensions: \",rank_4_tensor.ndim)\n",
        "# View tensor size\n",
        "print(\"Size: \",tf.size(rank_4_tensor))"
      ],
      "execution_count": 29,
      "outputs": [
        {
          "output_type": "stream",
          "text": [
            "Shape:  (2, 3, 4, 5)\n",
            "Dimensions:  4\n",
            "Size:  tf.Tensor(120, shape=(), dtype=int32)\n"
          ],
          "name": "stdout"
        }
      ]
    },
    {
      "cell_type": "code",
      "metadata": {
        "id": "AYttmELUpcFe",
        "colab": {
          "base_uri": "https://localhost:8080/"
        },
        "outputId": "13cd40da-143d-4c63-bbe4-8d1da8e8eb92"
      },
      "source": [
        "# Get various attributes of our tensor\n",
        "print(\"Datatype of evey element:\",rank_4_tensor.dtype)\n",
        "print(\"Number of dimensions: \",rank_4_tensor.ndim)\n",
        "print(\"Shape of tensor: \",rank_4_tensor.shape)\n",
        "print(\"Elements along the 0 axis:\",rank_4_tensor.shape[0])\n",
        "print(\"Elements along the last axis:\",rank_4_tensor.shape[-1])\n",
        "print(\"Total number of elements in our tensor: \",tf.size(rank_4_tensor))\n",
        "print(\"Total number of elements in our tensor with numpy:\",tf.size(rank_4_tensor).numpy())"
      ],
      "execution_count": 30,
      "outputs": [
        {
          "output_type": "stream",
          "text": [
            "Datatype of evey element: <dtype: 'int32'>\n",
            "Number of dimensions:  4\n",
            "Shape of tensor:  (2, 3, 4, 5)\n",
            "Elements along the 0 axis: 2\n",
            "Elements along the last axis: 5\n",
            "Total number of elements in our tensor:  tf.Tensor(120, shape=(), dtype=int32)\n",
            "Total number of elements in our tensor with numpy: 120\n"
          ],
          "name": "stdout"
        }
      ]
    },
    {
      "cell_type": "markdown",
      "metadata": {
        "id": "rWgF6CyTAl7j"
      },
      "source": [
        "### Indexing Tensors\n",
        "\n",
        "Tensors can be indexed like python lists"
      ]
    },
    {
      "cell_type": "code",
      "metadata": {
        "id": "QvVxhPLJAo15",
        "colab": {
          "base_uri": "https://localhost:8080/"
        },
        "outputId": "9aadf999-e2fe-4fbf-bd2b-abecc447dcc0"
      },
      "source": [
        "# Now lets get the first two elements of each dimension\n",
        "rank_4_tensor[:2,:2,:2,:2]"
      ],
      "execution_count": 31,
      "outputs": [
        {
          "output_type": "execute_result",
          "data": {
            "text/plain": [
              "<tf.Tensor: shape=(2, 2, 2, 2), dtype=int32, numpy=\n",
              "array([[[[0, 0],\n",
              "         [0, 0]],\n",
              "\n",
              "        [[0, 0],\n",
              "         [0, 0]]],\n",
              "\n",
              "\n",
              "       [[[0, 0],\n",
              "         [0, 0]],\n",
              "\n",
              "        [[0, 0],\n",
              "         [0, 0]]]], dtype=int32)>"
            ]
          },
          "metadata": {
            "tags": []
          },
          "execution_count": 31
        }
      ]
    },
    {
      "cell_type": "code",
      "metadata": {
        "colab": {
          "base_uri": "https://localhost:8080/"
        },
        "id": "y5NA1apvcCpI",
        "outputId": "e728ad17-31b1-49ba-b49e-345488c96d7e"
      },
      "source": [
        "# Get the first element for each dimension from each index except the final\n",
        "rank_4_tensor[:1,:1,:1]"
      ],
      "execution_count": 32,
      "outputs": [
        {
          "output_type": "execute_result",
          "data": {
            "text/plain": [
              "<tf.Tensor: shape=(1, 1, 1, 5), dtype=int32, numpy=array([[[[0, 0, 0, 0, 0]]]], dtype=int32)>"
            ]
          },
          "metadata": {
            "tags": []
          },
          "execution_count": 32
        }
      ]
    },
    {
      "cell_type": "code",
      "metadata": {
        "colab": {
          "base_uri": "https://localhost:8080/"
        },
        "id": "I6etKx4scRZ2",
        "outputId": "b2a75c60-0a11-4039-e617-4c0c5d0fd657"
      },
      "source": [
        "# Lets create a rank 2 tensor\n",
        "rank_2_tensor = tf.constant([[10,7],\n",
        "                            [3,4]])\n",
        "\n",
        "rank_2_tensor"
      ],
      "execution_count": 33,
      "outputs": [
        {
          "output_type": "execute_result",
          "data": {
            "text/plain": [
              "<tf.Tensor: shape=(2, 2), dtype=int32, numpy=\n",
              "array([[10,  7],\n",
              "       [ 3,  4]], dtype=int32)>"
            ]
          },
          "metadata": {
            "tags": []
          },
          "execution_count": 33
        }
      ]
    },
    {
      "cell_type": "code",
      "metadata": {
        "colab": {
          "base_uri": "https://localhost:8080/"
        },
        "id": "Rjkkc47KmNT_",
        "outputId": "af60477a-87e4-447c-91a2-1bcea9f1a985"
      },
      "source": [
        "print(\"Datatype of evey element:\",rank_2_tensor.dtype)\n",
        "print(\"Number of dimensions: \",rank_2_tensor.ndim)\n",
        "print(\"Shape of tensor: \",rank_2_tensor.shape)\n",
        "print(\"Elements along the 0 axis:\",rank_2_tensor.shape[0])\n",
        "print(\"Elements along the last axis:\",rank_2_tensor.shape[-1])\n",
        "print(\"Total number of elements in our tensor: \",tf.size(rank_2_tensor))\n",
        "print(\"Total number of elements in our tensor with numpy:\",tf.size(rank_2_tensor).numpy())"
      ],
      "execution_count": 34,
      "outputs": [
        {
          "output_type": "stream",
          "text": [
            "Datatype of evey element: <dtype: 'int32'>\n",
            "Number of dimensions:  2\n",
            "Shape of tensor:  (2, 2)\n",
            "Elements along the 0 axis: 2\n",
            "Elements along the last axis: 2\n",
            "Total number of elements in our tensor:  tf.Tensor(4, shape=(), dtype=int32)\n",
            "Total number of elements in our tensor with numpy: 4\n"
          ],
          "name": "stdout"
        }
      ]
    },
    {
      "cell_type": "code",
      "metadata": {
        "colab": {
          "base_uri": "https://localhost:8080/"
        },
        "id": "P92N7lHgmfFC",
        "outputId": "e78e5232-0bb4-4b98-db6c-14a639318521"
      },
      "source": [
        "# Get the last item of each row\n",
        "rank_2_tensor[:,-1]"
      ],
      "execution_count": 35,
      "outputs": [
        {
          "output_type": "execute_result",
          "data": {
            "text/plain": [
              "<tf.Tensor: shape=(2,), dtype=int32, numpy=array([7, 4], dtype=int32)>"
            ]
          },
          "metadata": {
            "tags": []
          },
          "execution_count": 35
        }
      ]
    },
    {
      "cell_type": "code",
      "metadata": {
        "colab": {
          "base_uri": "https://localhost:8080/"
        },
        "id": "jxtNTe20m6Ka",
        "outputId": "bebbba3e-496f-4c0d-f298-eeb0cd8914f3"
      },
      "source": [
        "# Add an extra dimension to our rank 2 tensor\n",
        "rank_3_tensor = rank_2_tensor[...,tf.newaxis]\n",
        "rank_3_tensor"
      ],
      "execution_count": 36,
      "outputs": [
        {
          "output_type": "execute_result",
          "data": {
            "text/plain": [
              "<tf.Tensor: shape=(2, 2, 1), dtype=int32, numpy=\n",
              "array([[[10],\n",
              "        [ 7]],\n",
              "\n",
              "       [[ 3],\n",
              "        [ 4]]], dtype=int32)>"
            ]
          },
          "metadata": {
            "tags": []
          },
          "execution_count": 36
        }
      ]
    },
    {
      "cell_type": "code",
      "metadata": {
        "colab": {
          "base_uri": "https://localhost:8080/"
        },
        "id": "LqlUbZZ4nWcE",
        "outputId": "ccf5b4e2-2de9-4a9c-ef86-24019a6439d3"
      },
      "source": [
        "tf.expand_dims(rank_2_tensor,axis=0)"
      ],
      "execution_count": 37,
      "outputs": [
        {
          "output_type": "execute_result",
          "data": {
            "text/plain": [
              "<tf.Tensor: shape=(1, 2, 2), dtype=int32, numpy=\n",
              "array([[[10,  7],\n",
              "        [ 3,  4]]], dtype=int32)>"
            ]
          },
          "metadata": {
            "tags": []
          },
          "execution_count": 37
        }
      ]
    },
    {
      "cell_type": "code",
      "metadata": {
        "colab": {
          "base_uri": "https://localhost:8080/"
        },
        "id": "tvpsLDjquwMi",
        "outputId": "9ffbf59b-855f-4e89-a449-a2201333e0ec"
      },
      "source": [
        "rank_2_tensor"
      ],
      "execution_count": 38,
      "outputs": [
        {
          "output_type": "execute_result",
          "data": {
            "text/plain": [
              "<tf.Tensor: shape=(2, 2), dtype=int32, numpy=\n",
              "array([[10,  7],\n",
              "       [ 3,  4]], dtype=int32)>"
            ]
          },
          "metadata": {
            "tags": []
          },
          "execution_count": 38
        }
      ]
    },
    {
      "cell_type": "markdown",
      "metadata": {
        "id": "KHx4TMr1wnWO"
      },
      "source": [
        "## Manipulating Tensors (tensor operations)"
      ]
    },
    {
      "cell_type": "markdown",
      "metadata": {
        "id": "LgEYks6iwunS"
      },
      "source": [
        "**Basic operations**\n",
        "\n",
        "---\n",
        "\n",
        "\n",
        "`+` `-` `*` `/`"
      ]
    },
    {
      "cell_type": "code",
      "metadata": {
        "colab": {
          "base_uri": "https://localhost:8080/"
        },
        "id": "jvFhEdNIvWNT",
        "outputId": "9217be1e-d8d8-4506-bece-69dda1123606"
      },
      "source": [
        "# We can add values to a tensor using the addition operator\n",
        "\n",
        "tensor = tf.constant([[10,7],\n",
        "                     [3,4]])\n",
        "tensor"
      ],
      "execution_count": 39,
      "outputs": [
        {
          "output_type": "execute_result",
          "data": {
            "text/plain": [
              "<tf.Tensor: shape=(2, 2), dtype=int32, numpy=\n",
              "array([[10,  7],\n",
              "       [ 3,  4]], dtype=int32)>"
            ]
          },
          "metadata": {
            "tags": []
          },
          "execution_count": 39
        }
      ]
    },
    {
      "cell_type": "code",
      "metadata": {
        "colab": {
          "base_uri": "https://localhost:8080/"
        },
        "id": "ptvy3Co8w2NF",
        "outputId": "eff33c70-b655-4705-c810-d64eb0fb0cc0"
      },
      "source": [
        "# Original tensor remains unchanged\n",
        "tensor + 10"
      ],
      "execution_count": 40,
      "outputs": [
        {
          "output_type": "execute_result",
          "data": {
            "text/plain": [
              "<tf.Tensor: shape=(2, 2), dtype=int32, numpy=\n",
              "array([[20, 17],\n",
              "       [13, 14]], dtype=int32)>"
            ]
          },
          "metadata": {
            "tags": []
          },
          "execution_count": 40
        }
      ]
    },
    {
      "cell_type": "code",
      "metadata": {
        "colab": {
          "base_uri": "https://localhost:8080/"
        },
        "id": "6YdSMvcH008m",
        "outputId": "2557587f-15bf-480b-e547-486066c5718e"
      },
      "source": [
        "# Multiplication also works\n",
        "tensor * 10"
      ],
      "execution_count": 41,
      "outputs": [
        {
          "output_type": "execute_result",
          "data": {
            "text/plain": [
              "<tf.Tensor: shape=(2, 2), dtype=int32, numpy=\n",
              "array([[100,  70],\n",
              "       [ 30,  40]], dtype=int32)>"
            ]
          },
          "metadata": {
            "tags": []
          },
          "execution_count": 41
        }
      ]
    },
    {
      "cell_type": "code",
      "metadata": {
        "colab": {
          "base_uri": "https://localhost:8080/"
        },
        "id": "3JTUWPdn1OKa",
        "outputId": "a9820c49-fafe-474d-d98c-db856f85fd3b"
      },
      "source": [
        "# Subtraction also works\n",
        "tensor - 10"
      ],
      "execution_count": 42,
      "outputs": [
        {
          "output_type": "execute_result",
          "data": {
            "text/plain": [
              "<tf.Tensor: shape=(2, 2), dtype=int32, numpy=\n",
              "array([[ 0, -3],\n",
              "       [-7, -6]], dtype=int32)>"
            ]
          },
          "metadata": {
            "tags": []
          },
          "execution_count": 42
        }
      ]
    },
    {
      "cell_type": "code",
      "metadata": {
        "colab": {
          "base_uri": "https://localhost:8080/"
        },
        "id": "AizhufmL1SVp",
        "outputId": "84573d64-e77a-4a37-b309-046f774d5174"
      },
      "source": [
        "# We can use the tensorflow built in functions aswell\n",
        "tf.multiply(tensor,10)"
      ],
      "execution_count": 43,
      "outputs": [
        {
          "output_type": "execute_result",
          "data": {
            "text/plain": [
              "<tf.Tensor: shape=(2, 2), dtype=int32, numpy=\n",
              "array([[100,  70],\n",
              "       [ 30,  40]], dtype=int32)>"
            ]
          },
          "metadata": {
            "tags": []
          },
          "execution_count": 43
        }
      ]
    },
    {
      "cell_type": "markdown",
      "metadata": {
        "id": "mj3iUTZ73rdX"
      },
      "source": [
        "### Matrix Multiplication\n"
      ]
    },
    {
      "cell_type": "code",
      "metadata": {
        "colab": {
          "base_uri": "https://localhost:8080/"
        },
        "id": "KBRBl20b1bGJ",
        "outputId": "8223e654-0c4c-4082-9c15-170401438066"
      },
      "source": [
        "# Μatrix multiplication in tensorflow\n",
        "print(tensor)\n",
        "\n",
        "tf.matmul(tensor,tensor)"
      ],
      "execution_count": 44,
      "outputs": [
        {
          "output_type": "stream",
          "text": [
            "tf.Tensor(\n",
            "[[10  7]\n",
            " [ 3  4]], shape=(2, 2), dtype=int32)\n"
          ],
          "name": "stdout"
        },
        {
          "output_type": "execute_result",
          "data": {
            "text/plain": [
              "<tf.Tensor: shape=(2, 2), dtype=int32, numpy=\n",
              "array([[121,  98],\n",
              "       [ 42,  37]], dtype=int32)>"
            ]
          },
          "metadata": {
            "tags": []
          },
          "execution_count": 44
        }
      ]
    },
    {
      "cell_type": "code",
      "metadata": {
        "colab": {
          "base_uri": "https://localhost:8080/"
        },
        "id": "vFyL0VVTAZLI",
        "outputId": "62a561cf-a063-493c-ec5c-4a1396c9b6cc"
      },
      "source": [
        "tensor * tensor # Notice the difference"
      ],
      "execution_count": 45,
      "outputs": [
        {
          "output_type": "execute_result",
          "data": {
            "text/plain": [
              "<tf.Tensor: shape=(2, 2), dtype=int32, numpy=\n",
              "array([[100,  49],\n",
              "       [  9,  16]], dtype=int32)>"
            ]
          },
          "metadata": {
            "tags": []
          },
          "execution_count": 45
        }
      ]
    },
    {
      "cell_type": "code",
      "metadata": {
        "colab": {
          "base_uri": "https://localhost:8080/"
        },
        "id": "6pk7u1Q-AnBi",
        "outputId": "92832cd5-5b88-4f49-cd8f-40a1f8964386"
      },
      "source": [
        "matrix_one = tf.constant([[1,2,5],\n",
        "                       [7,2,1],\n",
        "                       [3,3,3]])\n",
        "matrix_one"
      ],
      "execution_count": 46,
      "outputs": [
        {
          "output_type": "execute_result",
          "data": {
            "text/plain": [
              "<tf.Tensor: shape=(3, 3), dtype=int32, numpy=\n",
              "array([[1, 2, 5],\n",
              "       [7, 2, 1],\n",
              "       [3, 3, 3]], dtype=int32)>"
            ]
          },
          "metadata": {
            "tags": []
          },
          "execution_count": 46
        }
      ]
    },
    {
      "cell_type": "code",
      "metadata": {
        "colab": {
          "base_uri": "https://localhost:8080/"
        },
        "id": "L6GJexWCAvnX",
        "outputId": "9d197418-2ec1-4ae6-a00d-371e46e8c7c2"
      },
      "source": [
        "matrix_two = tf.constant([[3,5],\n",
        "                           [6,7],\n",
        "                           [1,8]])\n",
        "matrix_two"
      ],
      "execution_count": 47,
      "outputs": [
        {
          "output_type": "execute_result",
          "data": {
            "text/plain": [
              "<tf.Tensor: shape=(3, 2), dtype=int32, numpy=\n",
              "array([[3, 5],\n",
              "       [6, 7],\n",
              "       [1, 8]], dtype=int32)>"
            ]
          },
          "metadata": {
            "tags": []
          },
          "execution_count": 47
        }
      ]
    },
    {
      "cell_type": "code",
      "metadata": {
        "colab": {
          "base_uri": "https://localhost:8080/"
        },
        "id": "-ya0cujPA4_Z",
        "outputId": "13c391e5-cb14-4da6-964b-11bf50aa938d"
      },
      "source": [
        "# matrix_one * matrix_two Wont work due to incompatible shapes\n",
        "tf.matmul(matrix_one,matrix_two)"
      ],
      "execution_count": 48,
      "outputs": [
        {
          "output_type": "execute_result",
          "data": {
            "text/plain": [
              "<tf.Tensor: shape=(3, 2), dtype=int32, numpy=\n",
              "array([[20, 59],\n",
              "       [34, 57],\n",
              "       [30, 60]], dtype=int32)>"
            ]
          },
          "metadata": {
            "tags": []
          },
          "execution_count": 48
        }
      ]
    },
    {
      "cell_type": "code",
      "metadata": {
        "colab": {
          "base_uri": "https://localhost:8080/"
        },
        "id": "BBxXp_w5AR7B",
        "outputId": "6818bae2-9c6a-441a-a3c2-b4ee6878df7b"
      },
      "source": [
        "# Matrix multiplication with Python operator\n",
        "tensor @ tensor"
      ],
      "execution_count": 49,
      "outputs": [
        {
          "output_type": "execute_result",
          "data": {
            "text/plain": [
              "<tf.Tensor: shape=(2, 2), dtype=int32, numpy=\n",
              "array([[121,  98],\n",
              "       [ 42,  37]], dtype=int32)>"
            ]
          },
          "metadata": {
            "tags": []
          },
          "execution_count": 49
        }
      ]
    },
    {
      "cell_type": "code",
      "metadata": {
        "colab": {
          "base_uri": "https://localhost:8080/"
        },
        "id": "2mvbtNzmBOFJ",
        "outputId": "15868eff-a64e-4bdc-cdf8-093877f57015"
      },
      "source": [
        "matrix_one @ matrix_two"
      ],
      "execution_count": 50,
      "outputs": [
        {
          "output_type": "execute_result",
          "data": {
            "text/plain": [
              "<tf.Tensor: shape=(3, 2), dtype=int32, numpy=\n",
              "array([[20, 59],\n",
              "       [34, 57],\n",
              "       [30, 60]], dtype=int32)>"
            ]
          },
          "metadata": {
            "tags": []
          },
          "execution_count": 50
        }
      ]
    },
    {
      "cell_type": "code",
      "metadata": {
        "id": "2aoXcjvZBQi0"
      },
      "source": [
        "# Lets create a 3,2 tensor\n",
        "X = tf.constant([[1,2],\n",
        "                 [3,4],\n",
        "                 [5,6]])\n",
        "\n",
        "# Create another 3,2 tensor\n",
        "Y = tf.constant([[7,8],\n",
        "                 [9,10],\n",
        "                 [11,12]])"
      ],
      "execution_count": 51,
      "outputs": []
    },
    {
      "cell_type": "code",
      "metadata": {
        "id": "FuVi1BKhBmHZ"
      },
      "source": [
        "# Try to matrix multiply tensors of same shape\n",
        "# tf.matmul(X,Y) We geet a incompatible size error"
      ],
      "execution_count": 52,
      "outputs": []
    },
    {
      "cell_type": "markdown",
      "metadata": {
        "id": "-oE6c16HCLdT"
      },
      "source": [
        "**Note** Getting incompatible size errors make sense. Because in order to multiply 2 matrices (tensors) you need the following:\n",
        "1. The inner dimensions must match\n",
        "2. The resulting matrix has the shape of the outer dimensions"
      ]
    },
    {
      "cell_type": "code",
      "metadata": {
        "colab": {
          "base_uri": "https://localhost:8080/"
        },
        "id": "mdHhAUkkEB98",
        "outputId": "5f745e15-581e-4090-be3f-b49de8157e39"
      },
      "source": [
        "tf.transpose(Y),Y"
      ],
      "execution_count": 53,
      "outputs": [
        {
          "output_type": "execute_result",
          "data": {
            "text/plain": [
              "(<tf.Tensor: shape=(2, 3), dtype=int32, numpy=\n",
              " array([[ 7,  9, 11],\n",
              "        [ 8, 10, 12]], dtype=int32)>,\n",
              " <tf.Tensor: shape=(3, 2), dtype=int32, numpy=\n",
              " array([[ 7,  8],\n",
              "        [ 9, 10],\n",
              "        [11, 12]], dtype=int32)>)"
            ]
          },
          "metadata": {
            "tags": []
          },
          "execution_count": 53
        }
      ]
    },
    {
      "cell_type": "code",
      "metadata": {
        "colab": {
          "base_uri": "https://localhost:8080/"
        },
        "id": "6b_TI-AsEJj4",
        "outputId": "14df30b1-51e5-49b0-a877-da6a45324c68"
      },
      "source": [
        "tf.transpose(X),X"
      ],
      "execution_count": 54,
      "outputs": [
        {
          "output_type": "execute_result",
          "data": {
            "text/plain": [
              "(<tf.Tensor: shape=(2, 3), dtype=int32, numpy=\n",
              " array([[1, 3, 5],\n",
              "        [2, 4, 6]], dtype=int32)>,\n",
              " <tf.Tensor: shape=(3, 2), dtype=int32, numpy=\n",
              " array([[1, 2],\n",
              "        [3, 4],\n",
              "        [5, 6]], dtype=int32)>)"
            ]
          },
          "metadata": {
            "tags": []
          },
          "execution_count": 54
        }
      ]
    },
    {
      "cell_type": "code",
      "metadata": {
        "colab": {
          "base_uri": "https://localhost:8080/"
        },
        "id": "aWvpfxhvB6nG",
        "outputId": "ca1ca3e2-0e0b-438c-9db5-e8da5bd7640a"
      },
      "source": [
        "matrix_mul = tf.matmul(X,tf.transpose(Y))\n",
        "matrix_mul"
      ],
      "execution_count": 55,
      "outputs": [
        {
          "output_type": "execute_result",
          "data": {
            "text/plain": [
              "<tf.Tensor: shape=(3, 3), dtype=int32, numpy=\n",
              "array([[ 23,  29,  35],\n",
              "       [ 53,  67,  81],\n",
              "       [ 83, 105, 127]], dtype=int32)>"
            ]
          },
          "metadata": {
            "tags": []
          },
          "execution_count": 55
        }
      ]
    },
    {
      "cell_type": "code",
      "metadata": {
        "colab": {
          "base_uri": "https://localhost:8080/"
        },
        "id": "fhIqoZluFV-Y",
        "outputId": "d5a9223b-1c5f-436b-b06d-1424117fb001"
      },
      "source": [
        "tf.matmul(tf.transpose(X),Y)"
      ],
      "execution_count": 56,
      "outputs": [
        {
          "output_type": "execute_result",
          "data": {
            "text/plain": [
              "<tf.Tensor: shape=(2, 2), dtype=int32, numpy=\n",
              "array([[ 89,  98],\n",
              "       [116, 128]], dtype=int32)>"
            ]
          },
          "metadata": {
            "tags": []
          },
          "execution_count": 56
        }
      ]
    },
    {
      "cell_type": "code",
      "metadata": {
        "colab": {
          "base_uri": "https://localhost:8080/"
        },
        "id": "pyAgBcxeDR3E",
        "outputId": "8deef237-7be7-4c1f-b7bc-6c4429bdd02f"
      },
      "source": [
        "print(\"Datatype of evey element:\",matrix_mul.dtype)\n",
        "print(\"Number of dimensions: \",matrix_mul.ndim)\n",
        "print(\"Shape of tensor: \",matrix_mul.shape)\n",
        "print(\"Elements along the 0 axis:\",matrix_mul.shape[0])\n",
        "print(\"Elements along the last axis:\",matrix_mul.shape[-1])\n",
        "print(\"Total number of elements in our tensor: \",tf.size(matrix_mul))\n",
        "print(\"Total number of elements in our tensor with numpy:\",tf.size(matrix_mul).numpy())"
      ],
      "execution_count": 57,
      "outputs": [
        {
          "output_type": "stream",
          "text": [
            "Datatype of evey element: <dtype: 'int32'>\n",
            "Number of dimensions:  2\n",
            "Shape of tensor:  (3, 3)\n",
            "Elements along the 0 axis: 3\n",
            "Elements along the last axis: 3\n",
            "Total number of elements in our tensor:  tf.Tensor(9, shape=(), dtype=int32)\n",
            "Total number of elements in our tensor with numpy: 9\n"
          ],
          "name": "stdout"
        }
      ]
    },
    {
      "cell_type": "markdown",
      "metadata": {
        "id": "_K389fOAHTBq"
      },
      "source": [
        "** The dot product**\n",
        "\n",
        "Matrix multiplication is also referred to as the dot product.\n",
        "\n",
        "---\n",
        "\n",
        "\n",
        "You can perform matrix multiplication using:\n",
        "\n",
        "* `tf.matmul()`\n",
        "* `tf.tensordot()`\n"
      ]
    },
    {
      "cell_type": "code",
      "metadata": {
        "colab": {
          "base_uri": "https://localhost:8080/"
        },
        "id": "2F5UFuAFD-zQ",
        "outputId": "5f4d6e09-d698-4c8d-af4f-66c41f0a27aa"
      },
      "source": [
        "# Lets perform the dot product on X and Y\n",
        "# First on transposed X\n",
        "tf.tensordot(tf.transpose(X),Y,axes=1)"
      ],
      "execution_count": 58,
      "outputs": [
        {
          "output_type": "execute_result",
          "data": {
            "text/plain": [
              "<tf.Tensor: shape=(2, 2), dtype=int32, numpy=\n",
              "array([[ 89,  98],\n",
              "       [116, 128]], dtype=int32)>"
            ]
          },
          "metadata": {
            "tags": []
          },
          "execution_count": 58
        }
      ]
    },
    {
      "cell_type": "code",
      "metadata": {
        "colab": {
          "base_uri": "https://localhost:8080/"
        },
        "id": "z4ViPRWdH2f2",
        "outputId": "a7329f5b-ad7a-4d8f-aaeb-fcd5e5435721"
      },
      "source": [
        " # Secondly on Transposed Y\n",
        " tf.tensordot(X,tf.transpose(Y),axes=1)"
      ],
      "execution_count": 59,
      "outputs": [
        {
          "output_type": "execute_result",
          "data": {
            "text/plain": [
              "<tf.Tensor: shape=(3, 3), dtype=int32, numpy=\n",
              "array([[ 23,  29,  35],\n",
              "       [ 53,  67,  81],\n",
              "       [ 83, 105, 127]], dtype=int32)>"
            ]
          },
          "metadata": {
            "tags": []
          },
          "execution_count": 59
        }
      ]
    },
    {
      "cell_type": "code",
      "metadata": {
        "colab": {
          "base_uri": "https://localhost:8080/"
        },
        "id": "4tjWdawRIVl4",
        "outputId": "0fbb139d-e3e3-4f11-ee7d-e868e65e0dab"
      },
      "source": [
        "# Now lets give it a try on reshaped elements\n",
        "# First reshape X\n",
        "tf.tensordot(tf.reshape(X,shape=(2,3)),Y,axes=1)"
      ],
      "execution_count": 60,
      "outputs": [
        {
          "output_type": "execute_result",
          "data": {
            "text/plain": [
              "<tf.Tensor: shape=(2, 2), dtype=int32, numpy=\n",
              "array([[ 58,  64],\n",
              "       [139, 154]], dtype=int32)>"
            ]
          },
          "metadata": {
            "tags": []
          },
          "execution_count": 60
        }
      ]
    },
    {
      "cell_type": "code",
      "metadata": {
        "colab": {
          "base_uri": "https://localhost:8080/"
        },
        "id": "YFwUtr9_IuTn",
        "outputId": "34c5c892-1fc4-4dea-96a4-7c4e2da16323"
      },
      "source": [
        "# Seconly on reshaped Y\n",
        "tf.tensordot(X,tf.reshape(Y,shape=(2,3)),axes=1)"
      ],
      "execution_count": 61,
      "outputs": [
        {
          "output_type": "execute_result",
          "data": {
            "text/plain": [
              "<tf.Tensor: shape=(3, 3), dtype=int32, numpy=\n",
              "array([[ 27,  30,  33],\n",
              "       [ 61,  68,  75],\n",
              "       [ 95, 106, 117]], dtype=int32)>"
            ]
          },
          "metadata": {
            "tags": []
          },
          "execution_count": 61
        }
      ]
    },
    {
      "cell_type": "code",
      "metadata": {
        "colab": {
          "base_uri": "https://localhost:8080/"
        },
        "id": "t9isSWtTI-cX",
        "outputId": "10340bf0-906a-437c-9e96-b7c96922a78c"
      },
      "source": [
        "# Check the values of Y, reshape Y and transposed Y\n",
        "print(\"Normal Y:\")\n",
        "print(Y,\"\\n\")\n",
        "\n",
        "# Check the reshaped Y\n",
        "print(\"Y reshaped to (2,3):\")\n",
        "print(tf.reshape(Y,shape=(2,3)),'\\n')\n",
        "\n",
        "# Check the Transposed Y\n",
        "print(\"Transposed Y:\")\n",
        "print(tf.transpose(Y))"
      ],
      "execution_count": 62,
      "outputs": [
        {
          "output_type": "stream",
          "text": [
            "Normal Y:\n",
            "tf.Tensor(\n",
            "[[ 7  8]\n",
            " [ 9 10]\n",
            " [11 12]], shape=(3, 2), dtype=int32) \n",
            "\n",
            "Y reshaped to (2,3):\n",
            "tf.Tensor(\n",
            "[[ 7  8  9]\n",
            " [10 11 12]], shape=(2, 3), dtype=int32) \n",
            "\n",
            "Transposed Y:\n",
            "tf.Tensor(\n",
            "[[ 7  9 11]\n",
            " [ 8 10 12]], shape=(2, 3), dtype=int32)\n"
          ],
          "name": "stdout"
        }
      ]
    },
    {
      "cell_type": "code",
      "metadata": {
        "colab": {
          "base_uri": "https://localhost:8080/"
        },
        "id": "Q5faDm1bJNzv",
        "outputId": "2cebbbef-3913-4ccd-8af8-93f18fcd886d"
      },
      "source": [
        "# Check the values of X, reshape X and transposed X\n",
        "print(\"Normal X:\")\n",
        "print(X,\"\\n\")\n",
        "\n",
        "# Check the reshaped X\n",
        "print(\"X reshaped to (2,3):\")\n",
        "print(tf.reshape(X,shape=(2,3)),'\\n')\n",
        "\n",
        "# Check the Transposed X\n",
        "print(\"Transposed X:\")\n",
        "print(tf.transpose(X))"
      ],
      "execution_count": 63,
      "outputs": [
        {
          "output_type": "stream",
          "text": [
            "Normal X:\n",
            "tf.Tensor(\n",
            "[[1 2]\n",
            " [3 4]\n",
            " [5 6]], shape=(3, 2), dtype=int32) \n",
            "\n",
            "X reshaped to (2,3):\n",
            "tf.Tensor(\n",
            "[[1 2 3]\n",
            " [4 5 6]], shape=(2, 3), dtype=int32) \n",
            "\n",
            "Transposed X:\n",
            "tf.Tensor(\n",
            "[[1 3 5]\n",
            " [2 4 6]], shape=(2, 3), dtype=int32)\n"
          ],
          "name": "stdout"
        }
      ]
    },
    {
      "cell_type": "markdown",
      "metadata": {
        "id": "b8XFVG4qKJVE"
      },
      "source": [
        "**Note** That the actuall correct way to multiply tensors is to transpose them."
      ]
    },
    {
      "cell_type": "markdown",
      "metadata": {
        "id": "qTClEvA_KuC7"
      },
      "source": [
        "## Changing the datatype of a tensor"
      ]
    },
    {
      "cell_type": "code",
      "metadata": {
        "id": "ih374zH9J_96",
        "colab": {
          "base_uri": "https://localhost:8080/"
        },
        "outputId": "ab9fddcd-473e-4ee2-9ec3-0c436f40e2e5"
      },
      "source": [
        "B = tf.constant([1.7,7.4])\n",
        "B"
      ],
      "execution_count": 64,
      "outputs": [
        {
          "output_type": "execute_result",
          "data": {
            "text/plain": [
              "<tf.Tensor: shape=(2,), dtype=float32, numpy=array([1.7, 7.4], dtype=float32)>"
            ]
          },
          "metadata": {
            "tags": []
          },
          "execution_count": 64
        }
      ]
    },
    {
      "cell_type": "code",
      "metadata": {
        "colab": {
          "base_uri": "https://localhost:8080/"
        },
        "id": "BC4OLY4scJZv",
        "outputId": "d860789b-2b5e-486c-8b34-2d25558a10d5"
      },
      "source": [
        "C = tf.constant([7,10])\n",
        "C"
      ],
      "execution_count": 65,
      "outputs": [
        {
          "output_type": "execute_result",
          "data": {
            "text/plain": [
              "<tf.Tensor: shape=(2,), dtype=int32, numpy=array([ 7, 10], dtype=int32)>"
            ]
          },
          "metadata": {
            "tags": []
          },
          "execution_count": 65
        }
      ]
    },
    {
      "cell_type": "markdown",
      "metadata": {
        "id": "lCpUYbbbdBiC"
      },
      "source": [
        "**Note** In tensorflow the default precision is 32 bit"
      ]
    },
    {
      "cell_type": "code",
      "metadata": {
        "colab": {
          "base_uri": "https://localhost:8080/"
        },
        "id": "xDJFv_9lciJS",
        "outputId": "f84d7d5c-b6b2-4bd6-a8b3-e223bf6d0a79"
      },
      "source": [
        "# Chaning the tf.float32 to tf.float16 (reduced precision)\n",
        "D = tf.cast(B,dtype=tf.float16)\n",
        "D"
      ],
      "execution_count": 66,
      "outputs": [
        {
          "output_type": "execute_result",
          "data": {
            "text/plain": [
              "<tf.Tensor: shape=(2,), dtype=float16, numpy=array([1.7, 7.4], dtype=float16)>"
            ]
          },
          "metadata": {
            "tags": []
          },
          "execution_count": 66
        }
      ]
    },
    {
      "cell_type": "code",
      "metadata": {
        "colab": {
          "base_uri": "https://localhost:8080/"
        },
        "id": "gXhvttMydS0P",
        "outputId": "aee49950-41be-4e4f-b436-f257c7e2ffb1"
      },
      "source": [
        "# Change from int32 to flaot32\n",
        "E = tf.cast(C,dtype=tf.float32)\n",
        "E"
      ],
      "execution_count": 67,
      "outputs": [
        {
          "output_type": "execute_result",
          "data": {
            "text/plain": [
              "<tf.Tensor: shape=(2,), dtype=float32, numpy=array([ 7., 10.], dtype=float32)>"
            ]
          },
          "metadata": {
            "tags": []
          },
          "execution_count": 67
        }
      ]
    },
    {
      "cell_type": "markdown",
      "metadata": {
        "id": "R8IleKVheAe8"
      },
      "source": [
        "### Aggregating Tensors\n",
        "\n",
        "Aggregating tensors means condesing them from multiple values down to smaller amount of values"
      ]
    },
    {
      "cell_type": "code",
      "metadata": {
        "colab": {
          "base_uri": "https://localhost:8080/"
        },
        "id": "m_GybkEAdvo8",
        "outputId": "e9ebd95e-25e6-4add-9d78-0d6beebce7a9"
      },
      "source": [
        "D = tf.constant([-7,-19])\n",
        "D"
      ],
      "execution_count": 68,
      "outputs": [
        {
          "output_type": "execute_result",
          "data": {
            "text/plain": [
              "<tf.Tensor: shape=(2,), dtype=int32, numpy=array([ -7, -19], dtype=int32)>"
            ]
          },
          "metadata": {
            "tags": []
          },
          "execution_count": 68
        }
      ]
    },
    {
      "cell_type": "code",
      "metadata": {
        "colab": {
          "base_uri": "https://localhost:8080/"
        },
        "id": "2DgNGgBJjm2Y",
        "outputId": "04f2f137-c70d-4be7-8ac5-e3bb41848723"
      },
      "source": [
        "# Get the absolute values\n",
        "D = tf.cast(D,dtype=tf.float16)\n",
        "\n",
        "tf.abs(D)"
      ],
      "execution_count": 69,
      "outputs": [
        {
          "output_type": "execute_result",
          "data": {
            "text/plain": [
              "<tf.Tensor: shape=(2,), dtype=float16, numpy=array([ 7., 19.], dtype=float16)>"
            ]
          },
          "metadata": {
            "tags": []
          },
          "execution_count": 69
        }
      ]
    },
    {
      "cell_type": "markdown",
      "metadata": {
        "id": "rh3XY2Quj0rI"
      },
      "source": [
        "**Forms of aggregation**\n",
        "\n",
        "---\n",
        "* Get the minimum\n",
        "* Get the maximum\n",
        "* Get the mean of a tensor\n",
        "* Get the sum of a tensor\n"
      ]
    },
    {
      "cell_type": "code",
      "metadata": {
        "colab": {
          "base_uri": "https://localhost:8080/"
        },
        "id": "BOgSww2NjqDA",
        "outputId": "0f09de3a-33d6-4d5a-87b4-8a9e7c7b4b4f"
      },
      "source": [
        "# Create a random tensor with values between 0 and 100 of size 50\n",
        "E = tf.constant(np.random.randint(0,100,size=50))\n",
        "E"
      ],
      "execution_count": 70,
      "outputs": [
        {
          "output_type": "execute_result",
          "data": {
            "text/plain": [
              "<tf.Tensor: shape=(50,), dtype=int64, numpy=\n",
              "array([22, 18,  1, 75, 88, 47, 55,  5, 64, 95,  5, 61, 19, 84, 91, 15, 25,\n",
              "       10, 70,  8, 19, 69, 97, 88, 15,  9, 31, 34, 98, 99, 37, 62, 96, 11,\n",
              "       80, 70, 74, 82, 17, 82, 75, 89, 79, 32, 58,  9, 57, 44, 15, 39])>"
            ]
          },
          "metadata": {
            "tags": []
          },
          "execution_count": 70
        }
      ]
    },
    {
      "cell_type": "code",
      "metadata": {
        "colab": {
          "base_uri": "https://localhost:8080/"
        },
        "id": "_Djp40h1lWHH",
        "outputId": "6b5230a3-b3b0-4f22-ba35-775568807525"
      },
      "source": [
        "print(\"Datatype of evey element:\",E.dtype)\n",
        "print(\"Number of dimensions: \",E.ndim)\n",
        "print(\"Shape of tensor: \",E.shape)\n",
        "print(\"Elements along the 0 axis:\",E.shape[0])\n",
        "print(\"Elements along the last axis:\",E.shape[-1])\n",
        "print(\"Total number of elements in our tensor: \",tf.size(E))\n",
        "print(\"Total number of elements in our tensor with numpy:\",tf.size(E).numpy())"
      ],
      "execution_count": 71,
      "outputs": [
        {
          "output_type": "stream",
          "text": [
            "Datatype of evey element: <dtype: 'int64'>\n",
            "Number of dimensions:  1\n",
            "Shape of tensor:  (50,)\n",
            "Elements along the 0 axis: 50\n",
            "Elements along the last axis: 50\n",
            "Total number of elements in our tensor:  tf.Tensor(50, shape=(), dtype=int32)\n",
            "Total number of elements in our tensor with numpy: 50\n"
          ],
          "name": "stdout"
        }
      ]
    },
    {
      "cell_type": "code",
      "metadata": {
        "colab": {
          "base_uri": "https://localhost:8080/"
        },
        "id": "65uYD_1Cl70B",
        "outputId": "8f5af58a-ae6e-4cf7-a3cf-0cc477470099"
      },
      "source": [
        "# Find the minimum \n",
        "tf.reduce_min(E)"
      ],
      "execution_count": 72,
      "outputs": [
        {
          "output_type": "execute_result",
          "data": {
            "text/plain": [
              "<tf.Tensor: shape=(), dtype=int64, numpy=1>"
            ]
          },
          "metadata": {
            "tags": []
          },
          "execution_count": 72
        }
      ]
    },
    {
      "cell_type": "code",
      "metadata": {
        "colab": {
          "base_uri": "https://localhost:8080/"
        },
        "id": "1EFy8AlMmfRe",
        "outputId": "af03e04e-1a94-485f-8526-5997c9142e6a"
      },
      "source": [
        "tf.reduce_max(E)"
      ],
      "execution_count": 73,
      "outputs": [
        {
          "output_type": "execute_result",
          "data": {
            "text/plain": [
              "<tf.Tensor: shape=(), dtype=int64, numpy=99>"
            ]
          },
          "metadata": {
            "tags": []
          },
          "execution_count": 73
        }
      ]
    },
    {
      "cell_type": "code",
      "metadata": {
        "colab": {
          "base_uri": "https://localhost:8080/"
        },
        "id": "YgRV5cE_m-q1",
        "outputId": "2f99e851-9f3b-4d9f-8921-b447238fb039"
      },
      "source": [
        "# Find the mean\n",
        "tf.reduce_mean(E)"
      ],
      "execution_count": 74,
      "outputs": [
        {
          "output_type": "execute_result",
          "data": {
            "text/plain": [
              "<tf.Tensor: shape=(), dtype=int64, numpy=50>"
            ]
          },
          "metadata": {
            "tags": []
          },
          "execution_count": 74
        }
      ]
    },
    {
      "cell_type": "code",
      "metadata": {
        "colab": {
          "base_uri": "https://localhost:8080/"
        },
        "id": "_EtElRGunDhC",
        "outputId": "63a5a967-da59-4006-9eb8-2ab0b91d88dc"
      },
      "source": [
        "# FInd the sum\n",
        "tf.reduce_sum(E)"
      ],
      "execution_count": 75,
      "outputs": [
        {
          "output_type": "execute_result",
          "data": {
            "text/plain": [
              "<tf.Tensor: shape=(), dtype=int64, numpy=2525>"
            ]
          },
          "metadata": {
            "tags": []
          },
          "execution_count": 75
        }
      ]
    },
    {
      "cell_type": "code",
      "metadata": {
        "colab": {
          "base_uri": "https://localhost:8080/"
        },
        "id": "Bxm9wnLKopch",
        "outputId": "eaf23361-be0c-4599-a7e9-f70c24486e60"
      },
      "source": [
        "# To find the variance we need tensorflow probability\n",
        "import tensorflow_probability as tfp\n",
        "tfp.stats.variance(E)"
      ],
      "execution_count": 76,
      "outputs": [
        {
          "output_type": "execute_result",
          "data": {
            "text/plain": [
              "<tf.Tensor: shape=(), dtype=int64, numpy=1015>"
            ]
          },
          "metadata": {
            "tags": []
          },
          "execution_count": 76
        }
      ]
    },
    {
      "cell_type": "code",
      "metadata": {
        "colab": {
          "base_uri": "https://localhost:8080/"
        },
        "id": "QIOTM_jEp3I6",
        "outputId": "91644a44-2b14-4270-8bc0-fb9759a10a42"
      },
      "source": [
        "# find standart deviation\n",
        "# In order for tf.math.reduce to work we need to cast the int tensor into a float\n",
        "E = tf.cast(E,dtype=tf.float16)\n",
        "E"
      ],
      "execution_count": 77,
      "outputs": [
        {
          "output_type": "execute_result",
          "data": {
            "text/plain": [
              "<tf.Tensor: shape=(50,), dtype=float16, numpy=\n",
              "array([22., 18.,  1., 75., 88., 47., 55.,  5., 64., 95.,  5., 61., 19.,\n",
              "       84., 91., 15., 25., 10., 70.,  8., 19., 69., 97., 88., 15.,  9.,\n",
              "       31., 34., 98., 99., 37., 62., 96., 11., 80., 70., 74., 82., 17.,\n",
              "       82., 75., 89., 79., 32., 58.,  9., 57., 44., 15., 39.],\n",
              "      dtype=float16)>"
            ]
          },
          "metadata": {
            "tags": []
          },
          "execution_count": 77
        }
      ]
    },
    {
      "cell_type": "code",
      "metadata": {
        "colab": {
          "base_uri": "https://localhost:8080/"
        },
        "id": "SzDFqd30p6cp",
        "outputId": "81a80be4-6468-4e46-9896-964519401714"
      },
      "source": [
        "# Variance\n",
        "tf.math.reduce_variance(E)"
      ],
      "execution_count": 78,
      "outputs": [
        {
          "output_type": "execute_result",
          "data": {
            "text/plain": [
              "<tf.Tensor: shape=(), dtype=float16, numpy=1015.0>"
            ]
          },
          "metadata": {
            "tags": []
          },
          "execution_count": 78
        }
      ]
    },
    {
      "cell_type": "code",
      "metadata": {
        "colab": {
          "base_uri": "https://localhost:8080/"
        },
        "id": "_gD_6mnZrZMK",
        "outputId": "48234728-bf3a-4218-e37e-9474ff0517ee"
      },
      "source": [
        "# Standard Deviation\n",
        "tf.math.reduce_std(E)"
      ],
      "execution_count": 79,
      "outputs": [
        {
          "output_type": "execute_result",
          "data": {
            "text/plain": [
              "<tf.Tensor: shape=(), dtype=float16, numpy=31.86>"
            ]
          },
          "metadata": {
            "tags": []
          },
          "execution_count": 79
        }
      ]
    },
    {
      "cell_type": "markdown",
      "metadata": {
        "id": "YEU_NMvOsZ8B"
      },
      "source": [
        "### Lets find the positional max and min \n",
        "`tf.math.argmax`,`tf.math.argmin`"
      ]
    },
    {
      "cell_type": "code",
      "metadata": {
        "colab": {
          "base_uri": "https://localhost:8080/"
        },
        "id": "ADVniXn6sOwf",
        "outputId": "a95c041a-d255-49e9-8c6a-1cf7c6fcfbea"
      },
      "source": [
        "# Lets create a new tensor to find argmax and argmin\n",
        "tf.random.set_seed(42)\n",
        "F = tf.random.uniform(shape=[50])\n",
        "F"
      ],
      "execution_count": 80,
      "outputs": [
        {
          "output_type": "execute_result",
          "data": {
            "text/plain": [
              "<tf.Tensor: shape=(50,), dtype=float32, numpy=\n",
              "array([0.6645621 , 0.44100678, 0.3528825 , 0.46448255, 0.03366041,\n",
              "       0.68467236, 0.74011743, 0.8724445 , 0.22632635, 0.22319686,\n",
              "       0.3103881 , 0.7223358 , 0.13318717, 0.5480639 , 0.5746088 ,\n",
              "       0.8996835 , 0.00946367, 0.5212307 , 0.6345445 , 0.1993283 ,\n",
              "       0.72942245, 0.54583454, 0.10756552, 0.6767061 , 0.6602763 ,\n",
              "       0.33695042, 0.60141766, 0.21062577, 0.8527372 , 0.44062173,\n",
              "       0.9485276 , 0.23752594, 0.81179297, 0.5263394 , 0.494308  ,\n",
              "       0.21612847, 0.8457197 , 0.8718841 , 0.3083862 , 0.6868038 ,\n",
              "       0.23764038, 0.7817228 , 0.9671384 , 0.06870162, 0.79873943,\n",
              "       0.66028714, 0.5871513 , 0.16461694, 0.7381023 , 0.32054043],\n",
              "      dtype=float32)>"
            ]
          },
          "metadata": {
            "tags": []
          },
          "execution_count": 80
        }
      ]
    },
    {
      "cell_type": "code",
      "metadata": {
        "colab": {
          "base_uri": "https://localhost:8080/"
        },
        "id": "gRJB9kDUzFHy",
        "outputId": "61730a74-f0d1-4e8a-9aeb-c5e98440f4ad"
      },
      "source": [
        "# Find the positional maximum\n",
        "tf.argmax(F)"
      ],
      "execution_count": 81,
      "outputs": [
        {
          "output_type": "execute_result",
          "data": {
            "text/plain": [
              "<tf.Tensor: shape=(), dtype=int64, numpy=42>"
            ]
          },
          "metadata": {
            "tags": []
          },
          "execution_count": 81
        }
      ]
    },
    {
      "cell_type": "code",
      "metadata": {
        "colab": {
          "base_uri": "https://localhost:8080/"
        },
        "id": "5GYdRxonzbiS",
        "outputId": "1198b5be-1636-433d-d3ad-05ceb1549f33"
      },
      "source": [
        "# Index on our largest value position\n",
        "F[tf.argmax(F)]"
      ],
      "execution_count": 82,
      "outputs": [
        {
          "output_type": "execute_result",
          "data": {
            "text/plain": [
              "<tf.Tensor: shape=(), dtype=float32, numpy=0.9671384>"
            ]
          },
          "metadata": {
            "tags": []
          },
          "execution_count": 82
        }
      ]
    },
    {
      "cell_type": "code",
      "metadata": {
        "colab": {
          "base_uri": "https://localhost:8080/"
        },
        "id": "c-mbXXGCzePd",
        "outputId": "79fa5edb-02f4-47a0-b26d-ce8aaa9c484d"
      },
      "source": [
        "# Find the max value of F\n",
        "tf.reduce_max(F)"
      ],
      "execution_count": 83,
      "outputs": [
        {
          "output_type": "execute_result",
          "data": {
            "text/plain": [
              "<tf.Tensor: shape=(), dtype=float32, numpy=0.9671384>"
            ]
          },
          "metadata": {
            "tags": []
          },
          "execution_count": 83
        }
      ]
    },
    {
      "cell_type": "code",
      "metadata": {
        "colab": {
          "base_uri": "https://localhost:8080/"
        },
        "id": "QWQz1PjuzsTb",
        "outputId": "29345b2d-1571-4890-c420-61bde047e2b9"
      },
      "source": [
        "# Check for equality\n",
        "F[tf.argmax(F)] == tf.reduce_max(F)"
      ],
      "execution_count": 84,
      "outputs": [
        {
          "output_type": "execute_result",
          "data": {
            "text/plain": [
              "<tf.Tensor: shape=(), dtype=bool, numpy=True>"
            ]
          },
          "metadata": {
            "tags": []
          },
          "execution_count": 84
        }
      ]
    },
    {
      "cell_type": "code",
      "metadata": {
        "colab": {
          "base_uri": "https://localhost:8080/"
        },
        "id": "JqTTlRkiz3ex",
        "outputId": "b36dcb02-ceec-4b1e-9a34-83b367bf39ad"
      },
      "source": [
        "# Find the positional minumum\n",
        "tf.argmin(F)"
      ],
      "execution_count": 85,
      "outputs": [
        {
          "output_type": "execute_result",
          "data": {
            "text/plain": [
              "<tf.Tensor: shape=(), dtype=int64, numpy=16>"
            ]
          },
          "metadata": {
            "tags": []
          },
          "execution_count": 85
        }
      ]
    },
    {
      "cell_type": "code",
      "metadata": {
        "colab": {
          "base_uri": "https://localhost:8080/"
        },
        "id": "crimUaOf0LwZ",
        "outputId": "06634f5d-28a6-449d-e446-7d4ba0466fea"
      },
      "source": [
        "F[tf.argmin(F)]"
      ],
      "execution_count": 86,
      "outputs": [
        {
          "output_type": "execute_result",
          "data": {
            "text/plain": [
              "<tf.Tensor: shape=(), dtype=float32, numpy=0.009463668>"
            ]
          },
          "metadata": {
            "tags": []
          },
          "execution_count": 86
        }
      ]
    },
    {
      "cell_type": "code",
      "metadata": {
        "colab": {
          "base_uri": "https://localhost:8080/"
        },
        "id": "OsofrP_f0PgK",
        "outputId": "022c9346-6b9f-4f03-a66c-a9010d75ebff"
      },
      "source": [
        "tf.reduce_min(F)"
      ],
      "execution_count": 87,
      "outputs": [
        {
          "output_type": "execute_result",
          "data": {
            "text/plain": [
              "<tf.Tensor: shape=(), dtype=float32, numpy=0.009463668>"
            ]
          },
          "metadata": {
            "tags": []
          },
          "execution_count": 87
        }
      ]
    },
    {
      "cell_type": "code",
      "metadata": {
        "colab": {
          "base_uri": "https://localhost:8080/"
        },
        "id": "H4od957z0RvB",
        "outputId": "cc059997-1c23-403d-cf8d-9dc03f110f3a"
      },
      "source": [
        "F[tf.argmin(F)] == tf.reduce_min(F)"
      ],
      "execution_count": 88,
      "outputs": [
        {
          "output_type": "execute_result",
          "data": {
            "text/plain": [
              "<tf.Tensor: shape=(), dtype=bool, numpy=True>"
            ]
          },
          "metadata": {
            "tags": []
          },
          "execution_count": 88
        }
      ]
    },
    {
      "cell_type": "markdown",
      "metadata": {
        "id": "RsbQb4z90ggZ"
      },
      "source": [
        "### Squeezing a tensor (removing all single dimension)"
      ]
    },
    {
      "cell_type": "code",
      "metadata": {
        "colab": {
          "base_uri": "https://localhost:8080/"
        },
        "id": "-trrGyCR0WCb",
        "outputId": "b59ae65b-2ee2-4672-e30b-b7ca8c0c558d"
      },
      "source": [
        "# Create a tensor to get started\n",
        "tf.random.set_seed(42)\n",
        "G = tf.constant(tf.random.uniform(shape=[50]),shape=[1,1,1,1,50])\n",
        "G"
      ],
      "execution_count": 89,
      "outputs": [
        {
          "output_type": "execute_result",
          "data": {
            "text/plain": [
              "<tf.Tensor: shape=(1, 1, 1, 1, 50), dtype=float32, numpy=\n",
              "array([[[[[0.6645621 , 0.44100678, 0.3528825 , 0.46448255, 0.03366041,\n",
              "           0.68467236, 0.74011743, 0.8724445 , 0.22632635, 0.22319686,\n",
              "           0.3103881 , 0.7223358 , 0.13318717, 0.5480639 , 0.5746088 ,\n",
              "           0.8996835 , 0.00946367, 0.5212307 , 0.6345445 , 0.1993283 ,\n",
              "           0.72942245, 0.54583454, 0.10756552, 0.6767061 , 0.6602763 ,\n",
              "           0.33695042, 0.60141766, 0.21062577, 0.8527372 , 0.44062173,\n",
              "           0.9485276 , 0.23752594, 0.81179297, 0.5263394 , 0.494308  ,\n",
              "           0.21612847, 0.8457197 , 0.8718841 , 0.3083862 , 0.6868038 ,\n",
              "           0.23764038, 0.7817228 , 0.9671384 , 0.06870162, 0.79873943,\n",
              "           0.66028714, 0.5871513 , 0.16461694, 0.7381023 , 0.32054043]]]]],\n",
              "      dtype=float32)>"
            ]
          },
          "metadata": {
            "tags": []
          },
          "execution_count": 89
        }
      ]
    },
    {
      "cell_type": "code",
      "metadata": {
        "colab": {
          "base_uri": "https://localhost:8080/"
        },
        "id": "CMHCJGkD0v30",
        "outputId": "6e0b43f8-5c54-46a1-c682-9f81f326d370"
      },
      "source": [
        "G_squeezed = tf.squeeze(G)\n",
        "G_squeezed"
      ],
      "execution_count": 90,
      "outputs": [
        {
          "output_type": "execute_result",
          "data": {
            "text/plain": [
              "<tf.Tensor: shape=(50,), dtype=float32, numpy=\n",
              "array([0.6645621 , 0.44100678, 0.3528825 , 0.46448255, 0.03366041,\n",
              "       0.68467236, 0.74011743, 0.8724445 , 0.22632635, 0.22319686,\n",
              "       0.3103881 , 0.7223358 , 0.13318717, 0.5480639 , 0.5746088 ,\n",
              "       0.8996835 , 0.00946367, 0.5212307 , 0.6345445 , 0.1993283 ,\n",
              "       0.72942245, 0.54583454, 0.10756552, 0.6767061 , 0.6602763 ,\n",
              "       0.33695042, 0.60141766, 0.21062577, 0.8527372 , 0.44062173,\n",
              "       0.9485276 , 0.23752594, 0.81179297, 0.5263394 , 0.494308  ,\n",
              "       0.21612847, 0.8457197 , 0.8718841 , 0.3083862 , 0.6868038 ,\n",
              "       0.23764038, 0.7817228 , 0.9671384 , 0.06870162, 0.79873943,\n",
              "       0.66028714, 0.5871513 , 0.16461694, 0.7381023 , 0.32054043],\n",
              "      dtype=float32)>"
            ]
          },
          "metadata": {
            "tags": []
          },
          "execution_count": 90
        }
      ]
    },
    {
      "cell_type": "markdown",
      "metadata": {
        "id": "hEmamzNm1PQA"
      },
      "source": [
        "## One hot encoding tensors"
      ]
    },
    {
      "cell_type": "code",
      "metadata": {
        "colab": {
          "base_uri": "https://localhost:8080/"
        },
        "id": "Zu4ZeG3K1Dp7",
        "outputId": "fbccf482-3ad5-4368-ce19-da4335f10b5a"
      },
      "source": [
        "# Lets create a list of indices\n",
        "some_list = [0,1,2,3]\n",
        "\n",
        "\n",
        "# One hot encode our list of indices\n",
        "# One hot encoding with tf requires the depth of the list\n",
        "depth = len(some_list)\n",
        "\n",
        "tf.one_hot(some_list,depth)"
      ],
      "execution_count": 91,
      "outputs": [
        {
          "output_type": "execute_result",
          "data": {
            "text/plain": [
              "<tf.Tensor: shape=(4, 4), dtype=float32, numpy=\n",
              "array([[1., 0., 0., 0.],\n",
              "       [0., 1., 0., 0.],\n",
              "       [0., 0., 1., 0.],\n",
              "       [0., 0., 0., 1.]], dtype=float32)>"
            ]
          },
          "metadata": {
            "tags": []
          },
          "execution_count": 91
        }
      ]
    },
    {
      "cell_type": "code",
      "metadata": {
        "colab": {
          "base_uri": "https://localhost:8080/"
        },
        "id": "bY01VAvH4_ST",
        "outputId": "ca1c9ecc-9d56-4a85-a0d4-52e9912ceb69"
      },
      "source": [
        "# Specifu custom values for one hot encoding\n",
        "tf.one_hot(some_list,depth=4,on_value=\"True\",off_value=\"False\")"
      ],
      "execution_count": 92,
      "outputs": [
        {
          "output_type": "execute_result",
          "data": {
            "text/plain": [
              "<tf.Tensor: shape=(4, 4), dtype=string, numpy=\n",
              "array([[b'True', b'False', b'False', b'False'],\n",
              "       [b'False', b'True', b'False', b'False'],\n",
              "       [b'False', b'False', b'True', b'False'],\n",
              "       [b'False', b'False', b'False', b'True']], dtype=object)>"
            ]
          },
          "metadata": {
            "tags": []
          },
          "execution_count": 92
        }
      ]
    },
    {
      "cell_type": "markdown",
      "metadata": {
        "id": "z4bUb_0o6XzJ"
      },
      "source": [
        "### Squaring , log,square root"
      ]
    },
    {
      "cell_type": "code",
      "metadata": {
        "colab": {
          "base_uri": "https://localhost:8080/"
        },
        "id": "FDVdTfIP7B8K",
        "outputId": "b5e6a926-592a-4046-aa7f-521e144e3523"
      },
      "source": [
        "H = tf.range(1,10)\n",
        "H"
      ],
      "execution_count": 94,
      "outputs": [
        {
          "output_type": "execute_result",
          "data": {
            "text/plain": [
              "<tf.Tensor: shape=(9,), dtype=int32, numpy=array([1, 2, 3, 4, 5, 6, 7, 8, 9], dtype=int32)>"
            ]
          },
          "metadata": {
            "tags": []
          },
          "execution_count": 94
        }
      ]
    },
    {
      "cell_type": "code",
      "metadata": {
        "colab": {
          "base_uri": "https://localhost:8080/"
        },
        "id": "fDSuz-Hn7EHR",
        "outputId": "8afafb04-4806-428b-dd58-1e7f9a2e62b2"
      },
      "source": [
        "# Lets square it\n",
        "tf.square(H)"
      ],
      "execution_count": 95,
      "outputs": [
        {
          "output_type": "execute_result",
          "data": {
            "text/plain": [
              "<tf.Tensor: shape=(9,), dtype=int32, numpy=array([ 1,  4,  9, 16, 25, 36, 49, 64, 81], dtype=int32)>"
            ]
          },
          "metadata": {
            "tags": []
          },
          "execution_count": 95
        }
      ]
    },
    {
      "cell_type": "code",
      "metadata": {
        "colab": {
          "base_uri": "https://localhost:8080/"
        },
        "id": "U0UDMr1p7HwJ",
        "outputId": "d4f51faf-14a7-41a8-fd49-bf31bd5d30fe"
      },
      "source": [
        "# Find the square root( it requires not int type)\n",
        "tf.math.sqrt(tf.cast(H,dtype=tf.float16))"
      ],
      "execution_count": 97,
      "outputs": [
        {
          "output_type": "execute_result",
          "data": {
            "text/plain": [
              "<tf.Tensor: shape=(9,), dtype=float16, numpy=\n",
              "array([1.   , 1.414, 1.732, 2.   , 2.236, 2.45 , 2.646, 2.828, 3.   ],\n",
              "      dtype=float16)>"
            ]
          },
          "metadata": {
            "tags": []
          },
          "execution_count": 97
        }
      ]
    },
    {
      "cell_type": "code",
      "metadata": {
        "colab": {
          "base_uri": "https://localhost:8080/"
        },
        "id": "zN5xEAu_7Mx-",
        "outputId": "17b78a82-4564-451d-c422-5c2ce4a39786"
      },
      "source": [
        "# Find the log\n",
        "tf.math.log(tf.cast(H,dtype=tf.float16))"
      ],
      "execution_count": 99,
      "outputs": [
        {
          "output_type": "execute_result",
          "data": {
            "text/plain": [
              "<tf.Tensor: shape=(9,), dtype=float16, numpy=\n",
              "array([0.    , 0.6934, 1.099 , 1.387 , 1.609 , 1.792 , 1.946 , 2.08  ,\n",
              "       2.197 ], dtype=float16)>"
            ]
          },
          "metadata": {
            "tags": []
          },
          "execution_count": 99
        }
      ]
    },
    {
      "cell_type": "markdown",
      "metadata": {
        "id": "e_g-x9Vv8ed0"
      },
      "source": [
        "## Tensors and Numpy\n",
        "\n",
        "Tensorflow interacts with Numpy arrays"
      ]
    },
    {
      "cell_type": "code",
      "metadata": {
        "colab": {
          "base_uri": "https://localhost:8080/"
        },
        "id": "I9NNcDCV8Ccl",
        "outputId": "4a317c97-a956-4d32-c7f1-fc42dffad1eb"
      },
      "source": [
        "# Create a tensor directly from numpy array\n",
        "J = tf.constant(np.array([3.,7.,10.]))\n",
        "J"
      ],
      "execution_count": 101,
      "outputs": [
        {
          "output_type": "execute_result",
          "data": {
            "text/plain": [
              "<tf.Tensor: shape=(3,), dtype=float64, numpy=array([ 3.,  7., 10.])>"
            ]
          },
          "metadata": {
            "tags": []
          },
          "execution_count": 101
        }
      ]
    },
    {
      "cell_type": "code",
      "metadata": {
        "colab": {
          "base_uri": "https://localhost:8080/"
        },
        "id": "BPEpVAbD8zUX",
        "outputId": "7bc94c3b-ba55-4a02-d581-090f20e86ee9"
      },
      "source": [
        "# Convert our tensor back to a numpy array\n",
        "np.array(J),type(np.array(J))"
      ],
      "execution_count": 103,
      "outputs": [
        {
          "output_type": "execute_result",
          "data": {
            "text/plain": [
              "(array([ 3.,  7., 10.]), numpy.ndarray)"
            ]
          },
          "metadata": {
            "tags": []
          },
          "execution_count": 103
        }
      ]
    },
    {
      "cell_type": "code",
      "metadata": {
        "colab": {
          "base_uri": "https://localhost:8080/"
        },
        "id": "PjaaaEpS87Rx",
        "outputId": "1b010879-bc1d-4504-bb22-d4c25d05b6c2"
      },
      "source": [
        "# The default types of each are different\n",
        "numpy_J = tf.constant(np.array([3.,7.,10.]))\n",
        "tensor_J = tf.constant([3.,7.,10.])\n",
        "\n",
        "# Check the datatyoes of each tensor\n",
        "numpy_J.dtype,tensor_J.dtype"
      ],
      "execution_count": 105,
      "outputs": [
        {
          "output_type": "execute_result",
          "data": {
            "text/plain": [
              "(tf.float64, tf.float32)"
            ]
          },
          "metadata": {
            "tags": []
          },
          "execution_count": 105
        }
      ]
    },
    {
      "cell_type": "markdown",
      "metadata": {
        "id": "wBPtVkO_FXdT"
      },
      "source": [
        "### Main difference between tensorflow and numpy\n",
        "\n",
        "\n",
        "---\n",
        "Tensorflow can be run on a gpu or tpu while numpy only runs on the cpu which is much slower\n",
        "\n"
      ]
    },
    {
      "cell_type": "code",
      "metadata": {
        "colab": {
          "base_uri": "https://localhost:8080/"
        },
        "id": "Y6coqre__xE8",
        "outputId": "17f97858-94df-4062-cfd5-858cecd0cad5"
      },
      "source": [
        "# Find out whether you are running on cpu or gpu\n",
        "tf.config.list_physical_devices()"
      ],
      "execution_count": 109,
      "outputs": [
        {
          "output_type": "execute_result",
          "data": {
            "text/plain": [
              "[PhysicalDevice(name='/physical_device:CPU:0', device_type='CPU'),\n",
              " PhysicalDevice(name='/physical_device:GPU:0', device_type='GPU')]"
            ]
          },
          "metadata": {
            "tags": []
          },
          "execution_count": 109
        }
      ]
    },
    {
      "cell_type": "code",
      "metadata": {
        "colab": {
          "base_uri": "https://localhost:8080/"
        },
        "id": "2nwhTAG0GGFN",
        "outputId": "985870f8-0a86-47ba-b7b7-01ee13bed8c1"
      },
      "source": [
        "!nvidia-smi"
      ],
      "execution_count": 110,
      "outputs": [
        {
          "output_type": "stream",
          "text": [
            "Sun May  9 21:50:44 2021       \n",
            "+-----------------------------------------------------------------------------+\n",
            "| NVIDIA-SMI 465.19.01    Driver Version: 460.32.03    CUDA Version: 11.2     |\n",
            "|-------------------------------+----------------------+----------------------+\n",
            "| GPU  Name        Persistence-M| Bus-Id        Disp.A | Volatile Uncorr. ECC |\n",
            "| Fan  Temp  Perf  Pwr:Usage/Cap|         Memory-Usage | GPU-Util  Compute M. |\n",
            "|                               |                      |               MIG M. |\n",
            "|===============================+======================+======================|\n",
            "|   0  Tesla T4            Off  | 00000000:00:04.0 Off |                    0 |\n",
            "| N/A   76C    P0    35W /  70W |    224MiB / 15109MiB |      0%      Default |\n",
            "|                               |                      |                  N/A |\n",
            "+-------------------------------+----------------------+----------------------+\n",
            "                                                                               \n",
            "+-----------------------------------------------------------------------------+\n",
            "| Processes:                                                                  |\n",
            "|  GPU   GI   CI        PID   Type   Process name                  GPU Memory |\n",
            "|        ID   ID                                                   Usage      |\n",
            "|=============================================================================|\n",
            "+-----------------------------------------------------------------------------+\n"
          ],
          "name": "stdout"
        }
      ]
    },
    {
      "cell_type": "markdown",
      "metadata": {
        "id": "WV7EbmLqHWq0"
      },
      "source": [
        "**Note** If you have a cuda-enabled GPU, tensorflow will automatically use it when possible."
      ]
    }
  ]
}