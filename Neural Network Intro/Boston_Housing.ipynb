{
  "nbformat": 4,
  "nbformat_minor": 0,
  "metadata": {
    "colab": {
      "name": "Boston_Housing.ipynb",
      "provenance": [],
      "collapsed_sections": []
    },
    "kernelspec": {
      "name": "python3",
      "display_name": "Python 3"
    },
    "language_info": {
      "name": "python"
    },
    "accelerator": "GPU"
  },
  "cells": [
    {
      "cell_type": "markdown",
      "metadata": {
        "id": "xvxaJ0Fhzr5Z"
      },
      "source": [
        "# Imports"
      ]
    },
    {
      "cell_type": "code",
      "metadata": {
        "id": "K7pgpSVcznIE"
      },
      "source": [
        "import matplotlib.pyplot as plt\n",
        "import pandas as pd\n",
        "# Tensorflow\n",
        "import tensorflow as tf\n",
        "import tensorflow_datasets as tfds\n",
        "# Sk learn\n",
        "from sklearn.compose import make_column_transformer\n",
        "from sklearn.preprocessing import MinMaxScaler,OneHotEncoder\n",
        "from sklearn.model_selection import train_test_split"
      ],
      "execution_count": null,
      "outputs": []
    },
    {
      "cell_type": "code",
      "metadata": {
        "colab": {
          "base_uri": "https://localhost:8080/"
        },
        "id": "kYuCYdiDz9uh",
        "outputId": "49207bf9-b08e-4d2d-d746-98741711f758"
      },
      "source": [
        "(x_train, y_train), (x_test, y_test) = tf.keras.datasets.boston_housing.load_data(\n",
        "    path='boston_housing.npz', test_split=0.2, seed=113\n",
        ")"
      ],
      "execution_count": null,
      "outputs": [
        {
          "output_type": "stream",
          "text": [
            "Downloading data from https://storage.googleapis.com/tensorflow/tf-keras-datasets/boston_housing.npz\n",
            "57344/57026 [==============================] - 0s 0us/step\n"
          ],
          "name": "stdout"
        }
      ]
    },
    {
      "cell_type": "markdown",
      "metadata": {
        "id": "3XNoXgtE2yG4"
      },
      "source": [
        "# Since data is already normalized and standardized we only need to make a model and fit it the data"
      ]
    },
    {
      "cell_type": "code",
      "metadata": {
        "id": "jRspohTV0Rll"
      },
      "source": [
        "# Build a model\n",
        "\n",
        "# Setup random seed\n",
        "tf.random.set_seed(42)\n",
        "\n",
        "# 1. Build the model\n",
        "model_1 = tf.keras.models.Sequential([\n",
        "    tf.keras.layers.Dense(126,activation=\"relu\"),\n",
        "    tf.keras.layers.Dense(60),\n",
        "    tf.keras.layers.Flatten(),\n",
        "    tf.keras.layers.Dense(1)\n",
        "])\n",
        "\n",
        "# 2. Compile the model\n",
        "model_1.compile(loss = tf.keras.losses.mae,\n",
        "                optimizer = tf.keras.optimizers.Adam(),\n",
        "                metrics=[\"mae\"])\n",
        "\n",
        "# Early callback\n",
        "callback = tf.keras.callbacks.EarlyStopping(monitor=\"loss\",patience=10)\n",
        "\n",
        "# 3. Fit the model\n",
        "history = model_1.fit(x_train,\n",
        "                      y_train,\n",
        "                      epochs = 1000,\n",
        "                      callbacks = [callback],\n",
        "                      verbose=0)"
      ],
      "execution_count": null,
      "outputs": []
    },
    {
      "cell_type": "code",
      "metadata": {
        "id": "RsMuSWvM4KmI"
      },
      "source": [
        "# Plot history ( also known as a loss curve or a training curve)\n",
        "def plot_history(history):\n",
        "  pd.DataFrame(history.history).plot(figsize=(10,6))\n",
        "  plt.ylabel(\"loss\")\n",
        "  plt.xlabel(\"epochs\")\n",
        "  plt.show()\n",
        "\n",
        "# View Mae\n",
        "def mae(y_true,y_pred):\n",
        "  return tf.metrics.mean_absolute_error(y_true = y_true,\n",
        "                                        y_pred = tf.squeeze(y_pred))\n",
        "# View Mse\n",
        "def mse(y_true,y_pred):\n",
        "  return tf.metrics.mean_squared_error(y_true = y_true,\n",
        "                                       y_pred = tf.squeeze(y_pred))"
      ],
      "execution_count": null,
      "outputs": []
    },
    {
      "cell_type": "code",
      "metadata": {
        "colab": {
          "base_uri": "https://localhost:8080/",
          "height": 388
        },
        "id": "xRZP-jef4ONQ",
        "outputId": "4c8ca4f8-082b-46b6-f4eb-82d672ba2b04"
      },
      "source": [
        "plot_history(history)"
      ],
      "execution_count": null,
      "outputs": [
        {
          "output_type": "display_data",
          "data": {
            "image/png": "[encoded data removed]",
            "text/plain": [
              "<Figure size 720x432 with 1 Axes>"
            ]
          },
          "metadata": {
            "tags": [],
            "needs_background": "light"
          }
        }
      ]
    },
    {
      "cell_type": "code",
      "metadata": {
        "colab": {
          "base_uri": "https://localhost:8080/"
        },
        "id": "8kaDZScN42eZ",
        "outputId": "74a1e837-92f1-49a1-b7f5-6a1139bfc21c"
      },
      "source": [
        "model_1.evaluate(x_test,y_test)"
      ],
      "execution_count": null,
      "outputs": [
        {
          "output_type": "stream",
          "text": [
            "4/4 [==============================] - 0s 3ms/step - loss: 4.9499 - mae: 4.9499\n"
          ],
          "name": "stdout"
        },
        {
          "output_type": "execute_result",
          "data": {
            "text/plain": [
              "[4.949896812438965, 4.949896812438965]"
            ]
          },
          "metadata": {
            "tags": []
          },
          "execution_count": 6
        }
      ]
    },
    {
      "cell_type": "code",
      "metadata": {
        "colab": {
          "base_uri": "https://localhost:8080/"
        },
        "id": "grpTUhdo4cHw",
        "outputId": "f953cb22-3ea8-43df-ac83-ef20a861b7eb"
      },
      "source": [
        "y_pred = model_1.predict(x_test)\n",
        "mae_1 = mae(y_test,y_pred)\n",
        "mse_1 = mse(y_test,y_pred)\n",
        "\n",
        "print(\"Mean absolute error: \",mae_1)\n",
        "print(\"Mean squared error: \",mse_1)"
      ],
      "execution_count": null,
      "outputs": [
        {
          "output_type": "stream",
          "text": [
            "Mean absolute error:  tf.Tensor(4.949897, shape=(), dtype=float32)\n",
            "Mean squared error:  tf.Tensor(46.258526, shape=(), dtype=float32)\n"
          ],
          "name": "stdout"
        }
      ]
    },
    {
      "cell_type": "markdown",
      "metadata": {
        "id": "CYBFcbLa5TzG"
      },
      "source": [
        "### Lets see if we can improve on this"
      ]
    },
    {
      "cell_type": "code",
      "metadata": {
        "id": "JLx9PY3X5Own"
      },
      "source": [
        "# Second model\n",
        "\n",
        "# Random seed\n",
        "tf.random.set_seed(42)\n",
        "\n",
        "# 1. Build model 2\n",
        "model_2 = tf.keras.Sequential([\n",
        "    tf.keras.layers.Dense(512),\n",
        "    tf.keras.layers.Dense(256),\n",
        "    tf.keras.layers.Dense(126),\n",
        "    tf.keras.layers.Dense(64),\n",
        "    tf.keras.layers.Flatten(),\n",
        "    tf.keras.layers.Dense(1)\n",
        "])\n",
        "\n",
        "# 2. Compile the model\n",
        "model_2.compile(loss = tf.keras.losses.mae,\n",
        "                optimizer = tf.keras.optimizers.Adam(),\n",
        "                metrics=[\"mae\"])\n",
        "# Callback\n",
        "callback = tf.keras.callbacks.EarlyStopping(monitor=\"loss\",patience=10)\n",
        "\n",
        "# 3. Fit the model\n",
        "history_2 = model_2.fit(x_train,\n",
        "              y_train,\n",
        "              epochs=1000,\n",
        "              verbose=0)"
      ],
      "execution_count": null,
      "outputs": []
    },
    {
      "cell_type": "code",
      "metadata": {
        "colab": {
          "base_uri": "https://localhost:8080/",
          "height": 388
        },
        "id": "gdBl5abH6a1d",
        "outputId": "09aa8d3b-21d8-41a5-be25-3e14fbb9c82f"
      },
      "source": [
        "plot_history(history_2)"
      ],
      "execution_count": null,
      "outputs": [
        {
          "output_type": "display_data",
          "data": {
            "image/png": "[encoded data removed]",
            "text/plain": [
              "<Figure size 720x432 with 1 Axes>"
            ]
          },
          "metadata": {
            "tags": [],
            "needs_background": "light"
          }
        }
      ]
    },
    {
      "cell_type": "code",
      "metadata": {
        "colab": {
          "base_uri": "https://localhost:8080/"
        },
        "id": "_IzimjKF6mqq",
        "outputId": "79452ddc-95d2-4acc-f23d-b88c5e1d8c0f"
      },
      "source": [
        "model_2.evaluate(x_test,y_test)"
      ],
      "execution_count": null,
      "outputs": [
        {
          "output_type": "stream",
          "text": [
            "4/4 [==============================] - 0s 3ms/step - loss: 3.2482 - mae: 3.2482\n"
          ],
          "name": "stdout"
        },
        {
          "output_type": "execute_result",
          "data": {
            "text/plain": [
              "[3.2482354640960693, 3.2482354640960693]"
            ]
          },
          "metadata": {
            "tags": []
          },
          "execution_count": 10
        }
      ]
    },
    {
      "cell_type": "code",
      "metadata": {
        "colab": {
          "base_uri": "https://localhost:8080/"
        },
        "id": "0IhbvQxe6fP4",
        "outputId": "25428b15-faf7-4420-b258-ced8aed0abfb"
      },
      "source": [
        "y_pred_2 = model_2.predict(x_test)\n",
        "mae_2 = mae(y_test,y_pred_2)\n",
        "mse_2 = mse(y_test,y_pred_2)\n",
        "\n",
        "print(\"Mean absolute error: \",mae_2)\n",
        "print(\"Mean squared error: \",mse_2)"
      ],
      "execution_count": null,
      "outputs": [
        {
          "output_type": "stream",
          "text": [
            "Mean absolute error:  tf.Tensor(3.2482355, shape=(), dtype=float32)\n",
            "Mean squared error:  tf.Tensor(20.350193, shape=(), dtype=float32)\n"
          ],
          "name": "stdout"
        }
      ]
    },
    {
      "cell_type": "markdown",
      "metadata": {
        "id": "xpHwpwiD7Wmn"
      },
      "source": [
        "### Lets build another complex model such as model_2 but with relu activation on the first layers"
      ]
    },
    {
      "cell_type": "code",
      "metadata": {
        "id": "q4Q7g2EK64MI"
      },
      "source": [
        "# Build model 3\n",
        "\n",
        "# Set up random seed\n",
        "tf.random.set_seed(42)\n",
        "\n",
        "# 1. Build the model\n",
        "model_3 = tf.keras.models.Sequential([\n",
        "    tf.keras.layers.Dense(512,activation=\"relu\"),\n",
        "    tf.keras.layers.Dense(256,activation=\"relu\"),\n",
        "    tf.keras.layers.Dense(126,activation=\"relu\"),\n",
        "    tf.keras.layers.Dense(64,activation=\"relu\"),\n",
        "    tf.keras.layers.Flatten(),\n",
        "    tf.keras.layers.Dense(1)\n",
        "])\n",
        "\n",
        "# 2. Compile the model\n",
        "model_3.compile(loss = tf.keras.losses.mae,\n",
        "                optimizer = tf.keras.optimizers.Adam(),\n",
        "                metrics=[\"mae\"])\n",
        "\n",
        "# Callback\n",
        "callback = tf.keras.callbacks.EarlyStopping(monitor=\"loss\",patience=10)\n",
        "\n",
        "# 3. Fit the model\n",
        "history_3  = model_3.fit(x_train,\n",
        "                         y_train,\n",
        "                         epochs=1000,\n",
        "                         callbacks = [callback],\n",
        "                         verbose = 0)"
      ],
      "execution_count": null,
      "outputs": []
    },
    {
      "cell_type": "code",
      "metadata": {
        "colab": {
          "base_uri": "https://localhost:8080/",
          "height": 388
        },
        "id": "rb8ukmnX8k4l",
        "outputId": "a4555a23-81bf-425a-d07b-3276eee70f29"
      },
      "source": [
        "plot_history(history_3)"
      ],
      "execution_count": null,
      "outputs": [
        {
          "output_type": "display_data",
          "data": {
            "image/png": "[encoded data removed]",
            "text/plain": [
              "<Figure size 720x432 with 1 Axes>"
            ]
          },
          "metadata": {
            "tags": [],
            "needs_background": "light"
          }
        }
      ]
    },
    {
      "cell_type": "code",
      "metadata": {
        "colab": {
          "base_uri": "https://localhost:8080/"
        },
        "id": "VWx03FwN8nHi",
        "outputId": "5a334f01-7ef4-48fa-fc5e-bcfd8add3d63"
      },
      "source": [
        "model_3.evaluate(x_test,y_test)"
      ],
      "execution_count": null,
      "outputs": [
        {
          "output_type": "stream",
          "text": [
            "4/4 [==============================] - 0s 3ms/step - loss: 3.5338 - mae: 3.5338\n"
          ],
          "name": "stdout"
        },
        {
          "output_type": "execute_result",
          "data": {
            "text/plain": [
              "[3.5338008403778076, 3.5338008403778076]"
            ]
          },
          "metadata": {
            "tags": []
          },
          "execution_count": 14
        }
      ]
    },
    {
      "cell_type": "code",
      "metadata": {
        "colab": {
          "base_uri": "https://localhost:8080/"
        },
        "id": "LBZRgPBB8rRr",
        "outputId": "6deab2d8-90e6-45ce-affb-8ce03620e39b"
      },
      "source": [
        "y_pred_3 = model_3.predict(x_test)\n",
        "mae_3 = mae(y_test,y_pred_3)\n",
        "mse_3 = mse(y_test,y_pred_3)\n",
        "\n",
        "print(\"Mean absolute error: \",mae_1)\n",
        "print(\"Mean squared error: \",mse_1)"
      ],
      "execution_count": null,
      "outputs": [
        {
          "output_type": "stream",
          "text": [
            "Mean absolute error:  tf.Tensor(4.949897, shape=(), dtype=float32)\n",
            "Mean squared error:  tf.Tensor(46.258526, shape=(), dtype=float32)\n"
          ],
          "name": "stdout"
        }
      ]
    },
    {
      "cell_type": "markdown",
      "metadata": {
        "id": "RF3puansCl-a"
      },
      "source": [
        "## Build a model with keras tuner"
      ]
    },
    {
      "cell_type": "code",
      "metadata": {
        "colab": {
          "base_uri": "https://localhost:8080/"
        },
        "id": "WTr5_YWrCfPo",
        "outputId": "6ac2e953-39eb-4c03-a929-f764c4b24a35"
      },
      "source": [
        "pip install -q -U keras-tuner"
      ],
      "execution_count": null,
      "outputs": [
        {
          "output_type": "stream",
          "text": [
            "\u001b[?25l\r\u001b[K     |█████▏                          | 10kB 20.0MB/s eta 0:00:01\r\u001b[K     |██████████▍                     | 20kB 19.3MB/s eta 0:00:01\r\u001b[K     |███████████████▋                | 30kB 18.8MB/s eta 0:00:01\r\u001b[K     |████████████████████▉           | 40kB 15.9MB/s eta 0:00:01\r\u001b[K     |██████████████████████████      | 51kB 8.7MB/s eta 0:00:01\r\u001b[K     |███████████████████████████████▎| 61kB 10.0MB/s eta 0:00:01\r\u001b[K     |████████████████████████████████| 71kB 6.2MB/s \n",
            "\u001b[?25h  Building wheel for keras-tuner (setup.py) ... \u001b[?25l\u001b[?25hdone\n",
            "  Building wheel for terminaltables (setup.py) ... \u001b[?25l\u001b[?25hdone\n"
          ],
          "name": "stdout"
        }
      ]
    },
    {
      "cell_type": "code",
      "metadata": {
        "id": "4t021xnVD_BO"
      },
      "source": [
        "import kerastuner as kt\n",
        "\n",
        "# Function to build the models\n",
        "def model_builder(hp):\n",
        "  model = tf.keras.Sequential()\n",
        "  hp_units = hp.Int('units',min_value=32,max_value=512,step=16)\n",
        "  \n",
        "  model.add(tf.keras.layers.Dense(units=hp_units,activation=\"relu\"))\n",
        "  model.add(tf.keras.layers.Dense(256))\n",
        "  model.add(tf.keras.layers.Dense(126))\n",
        "  model.add(tf.keras.layers.Dense(64))\n",
        "  model.add(tf.keras.layers.Flatten())\n",
        "  model.add(tf.keras.layers.Dense(1))\n",
        "\n",
        "  hp_learning_rate = hp.Choice('learning_rate',values=[1e-2, 1e-3, 1e-4,1e-5])\n",
        "\n",
        "  model.compile(loss = tf.keras.losses.mae,\n",
        "                  optimizer = tf.keras.optimizers.Adam(learning_rate=hp_learning_rate),\n",
        "                  metrics=\"mae\")\n",
        "  return model"
      ],
      "execution_count": null,
      "outputs": []
    },
    {
      "cell_type": "code",
      "metadata": {
        "colab": {
          "base_uri": "https://localhost:8080/"
        },
        "id": "IQiuyfuyCj1d",
        "outputId": "2bc783db-459f-4f8d-f7b9-9b83fe9c2bf0"
      },
      "source": [
        "# Set up tuner\n",
        "tuner = kt.Hyperband(model_builder,\n",
        "                     objective=\"mae\",\n",
        "                     max_epochs=1000,\n",
        "                     factor = 3)\n",
        "\n",
        "# Set up callback\n",
        "callback = tf.keras.callbacks.EarlyStopping(monitor=\"mae\",patience=10)\n",
        "\n",
        "# Set up tuner search\n",
        "tuner.search(x_train,y_train,epochs = 1000,callbacks=[callback])\n",
        "\n",
        "best_hps = tuner.get_best_hyperparameters(num_trials=1)[0]\n",
        "\n",
        "print(f\"\"\"\n",
        "The hyperparameter search is complete. The optimal number of units in the first densely-connected\n",
        "layer is {best_hps.get('units')} and the optimal learning rate for the optimizer\n",
        "is {best_hps.get('learning_rate')}.\n",
        "\"\"\")\n",
        "\n"
      ],
      "execution_count": null,
      "outputs": [
        {
          "output_type": "stream",
          "text": [
            "Trial 68 Complete [00h 00m 00s]\n",
            "mae: 12.520970344543457\n",
            "\n",
            "Best mae So Far: 6.073988437652588\n",
            "Total elapsed time: 00h 00m 46s\n",
            "INFO:tensorflow:Oracle triggered exit\n",
            "\n",
            "The hyperparameter search is complete. The optimal number of units in the first densely-connected\n",
            "layer is 224 and the optimal learning rate for the optimizer\n",
            "is 0.0001.\n",
            "\n"
          ],
          "name": "stdout"
        }
      ]
    },
    {
      "cell_type": "code",
      "metadata": {
        "colab": {
          "base_uri": "https://localhost:8080/"
        },
        "id": "5xu72tZqHljg",
        "outputId": "6eaf4916-67eb-4431-aedb-ed4fe032723d"
      },
      "source": [
        "# Time to train the model\n",
        "\n",
        "model_4 = tuner.hypermodel.build(best_hps)\n",
        "\n",
        "history_4 = model_4.fit(x_train,\n",
        "                        y_train,\n",
        "                        epochs=1000,\n",
        "                        verbose=0)\n",
        "\n",
        "# Get the best epoch\n",
        "val_acc_per_epoch = history_4.history['mae']\n",
        "best_epoch = val_acc_per_epoch.index(min(val_acc_per_epoch)) + 1\n",
        "print('Best epoch: ' ,best_epoch)"
      ],
      "execution_count": null,
      "outputs": [
        {
          "output_type": "stream",
          "text": [
            "Best epoch:  977\n"
          ],
          "name": "stdout"
        }
      ]
    },
    {
      "cell_type": "code",
      "metadata": {
        "colab": {
          "base_uri": "https://localhost:8080/"
        },
        "id": "xljEKtT0Iaa4",
        "outputId": "a3566840-0177-48e6-ead8-4ffbf3dfa3fc"
      },
      "source": [
        "# Now time to finnaly train the hypermodel\n",
        "\n",
        "hypermodel_4 = tuner.hypermodel.build(best_hps)\n",
        "\n",
        "# Retrain the model on best epoch\n",
        "hypermodel_4.fit(x_train,\n",
        "                 y_train,\n",
        "                 epochs=best_epoch,\n",
        "                 verbose=0)"
      ],
      "execution_count": null,
      "outputs": [
        {
          "output_type": "execute_result",
          "data": {
            "text/plain": [
              "<tensorflow.python.keras.callbacks.History at 0x7f0ad1710d90>"
            ]
          },
          "metadata": {
            "tags": []
          },
          "execution_count": 20
        }
      ]
    },
    {
      "cell_type": "code",
      "metadata": {
        "colab": {
          "base_uri": "https://localhost:8080/"
        },
        "id": "15I_8C9GJBEH",
        "outputId": "e926dc4e-6efa-4b49-a618-12101725b207"
      },
      "source": [
        "hypermodel_4.evaluate(x_test,y_test)"
      ],
      "execution_count": null,
      "outputs": [
        {
          "output_type": "stream",
          "text": [
            "4/4 [==============================] - 0s 3ms/step - loss: 3.0181 - mae: 3.0181\n"
          ],
          "name": "stdout"
        },
        {
          "output_type": "execute_result",
          "data": {
            "text/plain": [
              "[3.018123149871826, 3.018123149871826]"
            ]
          },
          "metadata": {
            "tags": []
          },
          "execution_count": 21
        }
      ]
    },
    {
      "cell_type": "code",
      "metadata": {
        "colab": {
          "base_uri": "https://localhost:8080/"
        },
        "id": "uQ1yZDjCJGee",
        "outputId": "9e7a8142-4860-401a-8e02-0eda44b04bd4"
      },
      "source": [
        "y_pred_4 = hypermodel_4.predict(x_test)\n",
        "mae_4 = mae(y_test,y_pred_4)\n",
        "mse_4 = mse(y_test,y_pred_4)\n",
        "\n",
        "print(\"Mean absolute error: \",mae_4)\n",
        "print(\"Mean squared error: \",mse_4)"
      ],
      "execution_count": null,
      "outputs": [
        {
          "output_type": "stream",
          "text": [
            "Mean absolute error:  tf.Tensor(3.0181231, shape=(), dtype=float32)\n",
            "Mean squared error:  tf.Tensor(19.43011, shape=(), dtype=float32)\n"
          ],
          "name": "stdout"
        }
      ]
    },
    {
      "cell_type": "markdown",
      "metadata": {
        "id": "xaIkFB7n9lO7"
      },
      "source": [
        "# Now lets put all the results into a dataframe and plot them"
      ]
    },
    {
      "cell_type": "code",
      "metadata": {
        "colab": {
          "base_uri": "https://localhost:8080/"
        },
        "id": "YQFKjyUk9PF1",
        "outputId": "dc9108db-d24c-4e5f-c3e3-85cfa2e6fbb4"
      },
      "source": [
        "# Lets get the model results\n",
        "model_results = [[\"model_1\",mae_1.numpy(),mse_1.numpy()],\n",
        "                 [\"model_2\",mae_2.numpy(),mse_2.numpy()],\n",
        "                 [\"model_3\",mae_3.numpy(),mse_3.numpy()],\n",
        "                 [\"hyper_model_4\",mae_4.numpy(),mse_4.numpy()]]\n",
        "model_results"
      ],
      "execution_count": null,
      "outputs": [
        {
          "output_type": "execute_result",
          "data": {
            "text/plain": [
              "[['model_1', 4.949897, 46.258526],\n",
              " ['model_2', 3.2482355, 20.350193],\n",
              " ['model_3', 3.5338008, 26.025154],\n",
              " ['model_4', 3.0181231, 19.43011]]"
            ]
          },
          "metadata": {
            "tags": []
          },
          "execution_count": 23
        }
      ]
    },
    {
      "cell_type": "code",
      "metadata": {
        "colab": {
          "base_uri": "https://localhost:8080/",
          "height": 175
        },
        "id": "_M-zTB_Q-5gv",
        "outputId": "f429d435-1d94-494a-a340-99498edc70ec"
      },
      "source": [
        "# Now Lets put the model results into a dataframe\n",
        "model_results_df = pd.DataFrame(model_results,columns=[\"model\",\"mae\",\"mse\"])\n",
        "model_results_df"
      ],
      "execution_count": null,
      "outputs": [
        {
          "output_type": "execute_result",
          "data": {
            "text/html": [
              "<div>\n",
              "<style scoped>\n",
              "    .dataframe tbody tr th:only-of-type {\n",
              "        vertical-align: middle;\n",
              "    }\n",
              "\n",
              "    .dataframe tbody tr th {\n",
              "        vertical-align: top;\n",
              "    }\n",
              "\n",
              "    .dataframe thead th {\n",
              "        text-align: right;\n",
              "    }\n",
              "</style>\n",
              "<table border=\"1\" class=\"dataframe\">\n",
              "  <thead>\n",
              "    <tr style=\"text-align: right;\">\n",
              "      <th></th>\n",
              "      <th>model</th>\n",
              "      <th>mae</th>\n",
              "      <th>mse</th>\n",
              "    </tr>\n",
              "  </thead>\n",
              "  <tbody>\n",
              "    <tr>\n",
              "      <th>0</th>\n",
              "      <td>model_1</td>\n",
              "      <td>4.949897</td>\n",
              "      <td>46.258526</td>\n",
              "    </tr>\n",
              "    <tr>\n",
              "      <th>1</th>\n",
              "      <td>model_2</td>\n",
              "      <td>3.248235</td>\n",
              "      <td>20.350193</td>\n",
              "    </tr>\n",
              "    <tr>\n",
              "      <th>2</th>\n",
              "      <td>model_3</td>\n",
              "      <td>3.533801</td>\n",
              "      <td>26.025154</td>\n",
              "    </tr>\n",
              "    <tr>\n",
              "      <th>3</th>\n",
              "      <td>model_4</td>\n",
              "      <td>3.018123</td>\n",
              "      <td>19.430111</td>\n",
              "    </tr>\n",
              "  </tbody>\n",
              "</table>\n",
              "</div>"
            ],
            "text/plain": [
              "     model       mae        mse\n",
              "0  model_1  4.949897  46.258526\n",
              "1  model_2  3.248235  20.350193\n",
              "2  model_3  3.533801  26.025154\n",
              "3  model_4  3.018123  19.430111"
            ]
          },
          "metadata": {
            "tags": []
          },
          "execution_count": 24
        }
      ]
    },
    {
      "cell_type": "code",
      "metadata": {
        "colab": {
          "base_uri": "https://localhost:8080/",
          "height": 389
        },
        "id": "s0l1U8M6_PtD",
        "outputId": "5379e83c-7745-4eb4-ffc5-d1a598f10323"
      },
      "source": [
        "model_results_df.plot(x=\"model\",y=\"mae\",kind=\"bar\",figsize=(10,6))\n",
        "plt.xticks(rotation=\"horizontal\");"
      ],
      "execution_count": null,
      "outputs": [
        {
          "output_type": "display_data",
          "data": {
            "image/png": "[encoded data removed]",
            "text/plain": [
              "<Figure size 720x432 with 1 Axes>"
            ]
          },
          "metadata": {
            "tags": [],
            "needs_background": "light"
          }
        }
      ]
    },
    {
      "cell_type": "code",
      "metadata": {
        "colab": {
          "base_uri": "https://localhost:8080/",
          "height": 389
        },
        "id": "_VK7Ud1L_TMT",
        "outputId": "711968d6-a137-4296-e2b5-6ec9f8bcebb1"
      },
      "source": [
        "model_results_df.plot(x=\"model\",y=\"mse\",kind=\"bar\",figsize=(10,6))\n",
        "plt.xticks(rotation=\"horizontal\");"
      ],
      "execution_count": null,
      "outputs": [
        {
          "output_type": "display_data",
          "data": {
            "image/png": "[encoded data removed]",
            "text/plain": [
              "<Figure size 720x432 with 1 Axes>"
            ]
          },
          "metadata": {
            "tags": [],
            "needs_background": "light"
          }
        }
      ]
    },
    {
      "cell_type": "code",
      "metadata": {
        "id": "TCDugAcr_TeX"
      },
      "source": [
        ""
      ],
      "execution_count": null,
      "outputs": []
    }
  ]
}