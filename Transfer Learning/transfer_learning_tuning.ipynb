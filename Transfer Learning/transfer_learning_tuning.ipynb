{
  "nbformat": 4,
  "nbformat_minor": 0,
  "metadata": {
    "colab": {
      "name": "transfer_learning_tuning.ipynb",
      "provenance": []
    },
    "kernelspec": {
      "name": "python3",
      "display_name": "Python 3"
    },
    "language_info": {
      "name": "python"
    },
    "accelerator": "GPU"
  },
  "cells": [
    {
      "cell_type": "markdown",
      "source": [
        "## Imports\n"
      ],
      "metadata": {
        "id": "Lx_Acq0gJfQL"
      }
    },
    {
      "cell_type": "code",
      "execution_count": 1,
      "metadata": {
        "id": "mT-nSXb2G87Q"
      },
      "outputs": [],
      "source": [
        "import numpy as np\n",
        "import pandas as pd\n",
        "\n",
        "import matplotlib.image as mpimg\n",
        "import matplotlib.pyplot as plt\n",
        "\n",
        "\n",
        "import tensorflow as tf\n",
        "import tensorflow_hub as hub\n",
        "from tensorflow.keras import layers\n",
        "from tensorflow.keras.preprocessing.image import ImageDataGenerator\n",
        "\n",
        "\n",
        "import pathlib\n",
        "import zipfile\n",
        "import os\n",
        "import random\n",
        "import datetime"
      ]
    },
    {
      "cell_type": "markdown",
      "source": [
        "## Import some of our helper functions"
      ],
      "metadata": {
        "id": "WaL3IhRk-P_X"
      }
    },
    {
      "cell_type": "code",
      "source": [
        "!wget https://github.com/adrikosm/Tensorflow_Certification/blob/main/Helper_Functions.py"
      ],
      "metadata": {
        "id": "vHyiB888Z5fP"
      },
      "execution_count": null,
      "outputs": []
    }
  ]
}